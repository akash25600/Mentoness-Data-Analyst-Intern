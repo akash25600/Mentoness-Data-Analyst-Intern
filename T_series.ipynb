{
  "nbformat": 4,
  "nbformat_minor": 0,
  "metadata": {
    "colab": {
      "provenance": []
    },
    "kernelspec": {
      "name": "python3",
      "display_name": "Python 3"
    },
    "language_info": {
      "name": "python"
    }
  },
  "cells": [
    {
      "cell_type": "code",
      "execution_count": null,
      "metadata": {
        "id": "T1RL8ij8vVPj"
      },
      "outputs": [],
      "source": [
        "import pandas as pd\n",
        "import matplotlib.pyplot as plt\n",
        "import seaborn as sns"
      ]
    },
    {
      "cell_type": "code",
      "source": [
        "# Assuming you have your dataset in a CSV file named 'youtube_songs_data.csv'\n",
        "file_path = '/content/songs.xlsx'\n",
        "\n",
        "# Load the dataset into a pandas DataFrame\n",
        "df = pd.read_excel(file_path)"
      ],
      "metadata": {
        "id": "IzOk2VsHvvpq"
      },
      "execution_count": null,
      "outputs": []
    },
    {
      "cell_type": "code",
      "source": [
        "# Display the first few rows to understand the structure\n",
        "print(df.head())"
      ],
      "metadata": {
        "colab": {
          "base_uri": "https://localhost:8080/"
        },
        "id": "f6MQDIJowLRC",
        "outputId": "22f199bd-04ee-4702-d92d-31e7f8e988cd"
      },
      "execution_count": null,
      "outputs": [
        {
          "output_type": "stream",
          "name": "stdout",
          "text": [
            "   Unnamed: 0     video_id channelTitle  \\\n",
            "0           0  F44TK5EHCRo     T-Series   \n",
            "1           1  adx8Rsjp-c0     T-Series   \n",
            "2           2  36nQLyrR7Sw     T-Series   \n",
            "3           3  TKbifi5AMQo     T-Series   \n",
            "4           4  NNA21SoGqss     T-Series   \n",
            "\n",
            "                                               title  \\\n",
            "0  RAFTA RAFTA (Lo-Fi Mix) | Dj Moody | KK | Jeet...   \n",
            "1  TUM HO MERA PYAR (Lo-Fi Mix) | Dj Moody | KK, ...   \n",
            "2  ISHQ HOTHON SE (Lo-Fi Mix) (Audio) | Dj Moody ...   \n",
            "3  HUMKO PYAR HUA (Lo-Fi Mix) (Audio) | Dj Moody ...   \n",
            "4  Har Har Mahadev (Lyrical Video): Sachet Tandon...   \n",
            "\n",
            "                                         description  \\\n",
            "0  Presenting the song \"RAFTA RAFTA (Lo-Fi Mix)\" ...   \n",
            "1  Presenting the song \"TUM HO MERA PYAR (Lo-Fi M...   \n",
            "2  Presenting the song \"ISHQ HOTHON SE (Lo-Fi Mix...   \n",
            "3  Presenting the song \"HUMKO PYAR HUA (Lo-Fi Mix...   \n",
            "4  T-Series Presents \"Har Har Mahadev (Lyrical Vi...   \n",
            "\n",
            "                                                tags           publishedAt  \\\n",
            "0  ['hindi songs 2023', 'hindi songs new', 'bolly...  2023-08-20T12:30:08Z   \n",
            "1  ['hindi songs 2023', 'hindi songs new', 'bolly...  2023-08-20T10:30:01Z   \n",
            "2  ['hindi songs 2023', 'hindi songs new', 'bolly...  2023-08-20T09:30:00Z   \n",
            "3  ['hindi songs 2023', 'hindi songs new', 'bolly...  2023-08-20T07:30:05Z   \n",
            "4  ['hindi songs 2023', 'hindi songs new', 'bolly...  2023-08-20T05:30:06Z   \n",
            "\n",
            "   viewCount  likeCount  favoriteCount  commentCount duration definition  \\\n",
            "0       7299        241              0            59  PT4M42S         hd   \n",
            "1       4212        144              0            32  PT5M27S         hd   \n",
            "2       2849         79              0            31  PT6M10S         hd   \n",
            "3       3991        116              0            36  PT5M59S         hd   \n",
            "4     101950       6230              0           434  PT3M37S         hd   \n",
            "\n",
            "   caption  \n",
            "0    False  \n",
            "1    False  \n",
            "2    False  \n",
            "3    False  \n",
            "4    False  \n"
          ]
        }
      ]
    },
    {
      "cell_type": "code",
      "source": [
        "df.shape"
      ],
      "metadata": {
        "colab": {
          "base_uri": "https://localhost:8080/"
        },
        "id": "tILibYa_woc8",
        "outputId": "cecae48b-a4c7-4856-8d77-e51d80a04677"
      },
      "execution_count": null,
      "outputs": [
        {
          "output_type": "execute_result",
          "data": {
            "text/plain": [
              "(19345, 14)"
            ]
          },
          "metadata": {},
          "execution_count": 4
        }
      ]
    },
    {
      "cell_type": "code",
      "source": [
        "df.info()"
      ],
      "metadata": {
        "colab": {
          "base_uri": "https://localhost:8080/"
        },
        "id": "DrpgDj4BwtSb",
        "outputId": "389a50a5-0b99-43c9-c043-75ae5b13ac0c"
      },
      "execution_count": null,
      "outputs": [
        {
          "output_type": "stream",
          "name": "stdout",
          "text": [
            "<class 'pandas.core.frame.DataFrame'>\n",
            "RangeIndex: 19345 entries, 0 to 19344\n",
            "Data columns (total 14 columns):\n",
            " #   Column         Non-Null Count  Dtype \n",
            "---  ------         --------------  ----- \n",
            " 0   Unnamed: 0     19345 non-null  int64 \n",
            " 1   video_id       19345 non-null  object\n",
            " 2   channelTitle   19345 non-null  object\n",
            " 3   title          19345 non-null  object\n",
            " 4   description    19342 non-null  object\n",
            " 5   tags           19345 non-null  object\n",
            " 6   publishedAt    19345 non-null  object\n",
            " 7   viewCount      19345 non-null  int64 \n",
            " 8   likeCount      19345 non-null  int64 \n",
            " 9   favoriteCount  19345 non-null  int64 \n",
            " 10  commentCount   19345 non-null  int64 \n",
            " 11  duration       19345 non-null  object\n",
            " 12  definition     19345 non-null  object\n",
            " 13  caption        19345 non-null  bool  \n",
            "dtypes: bool(1), int64(5), object(8)\n",
            "memory usage: 1.9+ MB\n"
          ]
        }
      ]
    },
    {
      "cell_type": "code",
      "source": [
        "# Data Cleaning (if needed)\n",
        "# Example: Convert 'publishedAt' to datetime format\n",
        "df['publishedAt'] = pd.to_datetime(df['publishedAt'])"
      ],
      "metadata": {
        "id": "Y7geK3e-wLAb"
      },
      "execution_count": null,
      "outputs": []
    },
    {
      "cell_type": "code",
      "source": [
        "df.info()"
      ],
      "metadata": {
        "colab": {
          "base_uri": "https://localhost:8080/"
        },
        "id": "YwXAmiCLw0xr",
        "outputId": "df2dddce-ea2d-4ce8-98bb-b96d9d96662a"
      },
      "execution_count": null,
      "outputs": [
        {
          "output_type": "stream",
          "name": "stdout",
          "text": [
            "<class 'pandas.core.frame.DataFrame'>\n",
            "RangeIndex: 19345 entries, 0 to 19344\n",
            "Data columns (total 14 columns):\n",
            " #   Column         Non-Null Count  Dtype              \n",
            "---  ------         --------------  -----              \n",
            " 0   Unnamed: 0     19345 non-null  int64              \n",
            " 1   video_id       19345 non-null  object             \n",
            " 2   channelTitle   19345 non-null  object             \n",
            " 3   title          19345 non-null  object             \n",
            " 4   description    19342 non-null  object             \n",
            " 5   tags           19345 non-null  object             \n",
            " 6   publishedAt    19345 non-null  datetime64[ns, UTC]\n",
            " 7   viewCount      19345 non-null  int64              \n",
            " 8   likeCount      19345 non-null  int64              \n",
            " 9   favoriteCount  19345 non-null  int64              \n",
            " 10  commentCount   19345 non-null  int64              \n",
            " 11  duration       19345 non-null  object             \n",
            " 12  definition     19345 non-null  object             \n",
            " 13  caption        19345 non-null  bool               \n",
            "dtypes: bool(1), datetime64[ns, UTC](1), int64(5), object(7)\n",
            "memory usage: 1.9+ MB\n"
          ]
        }
      ]
    },
    {
      "cell_type": "code",
      "source": [
        "df.isnull().sum()"
      ],
      "metadata": {
        "colab": {
          "base_uri": "https://localhost:8080/"
        },
        "id": "Zf8HSXgb6q97",
        "outputId": "b4808e6a-af8f-4eb2-9a10-8c3f5170fd3f"
      },
      "execution_count": null,
      "outputs": [
        {
          "output_type": "execute_result",
          "data": {
            "text/plain": [
              "Unnamed: 0       0\n",
              "video_id         0\n",
              "channelTitle     0\n",
              "title            0\n",
              "description      3\n",
              "tags             0\n",
              "publishedAt      0\n",
              "viewCount        0\n",
              "likeCount        0\n",
              "favoriteCount    0\n",
              "commentCount     0\n",
              "duration         0\n",
              "definition       0\n",
              "caption          0\n",
              "dtype: int64"
            ]
          },
          "metadata": {},
          "execution_count": 9
        }
      ]
    },
    {
      "cell_type": "code",
      "source": [
        "df.dropna(inplace=True)"
      ],
      "metadata": {
        "id": "um_eVP6z61k7"
      },
      "execution_count": null,
      "outputs": []
    },
    {
      "cell_type": "code",
      "source": [
        "df.isnull().sum().sum()"
      ],
      "metadata": {
        "colab": {
          "base_uri": "https://localhost:8080/"
        },
        "id": "uYy6Joko66tr",
        "outputId": "97aca277-c29d-4de7-dca5-682070a1cbac"
      },
      "execution_count": null,
      "outputs": [
        {
          "output_type": "execute_result",
          "data": {
            "text/plain": [
              "0"
            ]
          },
          "metadata": {},
          "execution_count": 11
        }
      ]
    },
    {
      "cell_type": "code",
      "source": [
        "df.duplicated().sum()"
      ],
      "metadata": {
        "colab": {
          "base_uri": "https://localhost:8080/"
        },
        "id": "M9BAxHyn7CoK",
        "outputId": "c68bfae7-d9b5-4ba4-f225-f7d08a02d2f8"
      },
      "execution_count": null,
      "outputs": [
        {
          "output_type": "execute_result",
          "data": {
            "text/plain": [
              "0"
            ]
          },
          "metadata": {},
          "execution_count": 13
        }
      ]
    },
    {
      "cell_type": "code",
      "source": [
        "# Data Exploration\n",
        "# Example: Top channels by number of videos\n",
        "top_channels = df['channelTitle'].value_counts().nlargest(10)\n",
        "print(\"Top Channels by Number of Videos:\")\n",
        "print(top_channels)"
      ],
      "metadata": {
        "colab": {
          "base_uri": "https://localhost:8080/"
        },
        "id": "bLlXSyMFwX0i",
        "outputId": "5fd7040d-9b96-4c3a-9ba6-0ea0a1fe7563"
      },
      "execution_count": null,
      "outputs": [
        {
          "output_type": "stream",
          "name": "stdout",
          "text": [
            "Top Channels by Number of Videos:\n",
            "channelTitle\n",
            "T-Series    19345\n",
            "Name: count, dtype: int64\n"
          ]
        }
      ]
    },
    {
      "cell_type": "code",
      "source": [
        "# Example: Visualize distribution of views using a histogram\n",
        "plt.figure(figsize=(10, 6))\n",
        "sns.histplot(df['viewCount'], bins=30, kde=True)\n",
        "plt.title('Distribution of View Counts')\n",
        "plt.xlabel('View Count')\n",
        "plt.ylabel('Frequency')\n",
        "plt.show()"
      ],
      "metadata": {
        "colab": {
          "base_uri": "https://localhost:8080/",
          "height": 564
        },
        "id": "1ux0rMAuw6uo",
        "outputId": "3d761ed1-147c-426f-cf82-ac9140a5cf2d"
      },
      "execution_count": null,
      "outputs": [
        {
          "output_type": "display_data",
          "data": {
            "text/plain": [
              "<Figure size 1000x600 with 1 Axes>"
            ],
            "image/png": "[encoded data removed]"
          },
          "metadata": {}
        }
      ]
    },
    {
      "cell_type": "code",
      "source": [
        "# Example: Time series analysis of views over time\n",
        "df.set_index('publishedAt', inplace=True)\n",
        "views_over_time = df['viewCount'].resample('M').sum()  # Resample by month and sum views\n",
        "plt.figure(figsize=(12, 6))\n",
        "views_over_time.plot()\n",
        "plt.title('Total Views Over Time')\n",
        "plt.xlabel('Date')\n",
        "plt.ylabel('Total Views')\n",
        "plt.grid(True)\n",
        "plt.show()"
      ],
      "metadata": {
        "colab": {
          "base_uri": "https://localhost:8080/",
          "height": 531
        },
        "id": "9OTcxR8kw-_b",
        "outputId": "b52416c5-7292-477a-9e7b-3a23eec1f6a8"
      },
      "execution_count": null,
      "outputs": [
        {
          "output_type": "display_data",
          "data": {
            "text/plain": [
              "<Figure size 1200x600 with 1 Axes>"
            ],
            "image/png": "[encoded data removed]"
          },
          "metadata": {}
        }
      ]
    },
    {
      "cell_type": "code",
      "source": [
        "numeric_columns = ['viewCount', 'likeCount', 'favoriteCount', 'commentCount']\n",
        "for col in numeric_columns:\n",
        "    df[col] = pd.to_numeric(df[col], errors='coerce')  # Convert to numeric, setting errors='coerce' to handle non-numeric values\n",
        "\n",
        "# Drop rows with NaN values in numeric columns (optional, based on how you want to handle missing data)\n",
        "df.dropna(subset=numeric_columns, inplace=True)"
      ],
      "metadata": {
        "id": "TBbTM1rVxzem"
      },
      "execution_count": null,
      "outputs": []
    },
    {
      "cell_type": "code",
      "source": [
        "numerical_columns = df.select_dtypes(include=['number']).columns\n",
        "object_columns = df.select_dtypes(include=['object']).columns\n"
      ],
      "metadata": {
        "id": "Q9IGgww8yibA"
      },
      "execution_count": null,
      "outputs": []
    },
    {
      "cell_type": "code",
      "source": [
        "df_numerical = df[numerical_columns]"
      ],
      "metadata": {
        "id": "B1mpxB4jznr-"
      },
      "execution_count": null,
      "outputs": []
    },
    {
      "cell_type": "code",
      "source": [
        "df_object=df[object_columns]"
      ],
      "metadata": {
        "id": "zRYgjJhGz5JD"
      },
      "execution_count": null,
      "outputs": []
    },
    {
      "cell_type": "code",
      "source": [
        "df_scaled = pd.concat([df_numerical,df_object], axis=1)"
      ],
      "metadata": {
        "id": "Gvci4GuP0j-_"
      },
      "execution_count": null,
      "outputs": []
    },
    {
      "cell_type": "code",
      "source": [
        "df_scaled.columns"
      ],
      "metadata": {
        "colab": {
          "base_uri": "https://localhost:8080/"
        },
        "id": "yG_moHBE08X1",
        "outputId": "01b9e43d-63ad-4246-fbe0-53282f429f29"
      },
      "execution_count": null,
      "outputs": [
        {
          "output_type": "execute_result",
          "data": {
            "text/plain": [
              "Index(['Unnamed: 0', 'viewCount', 'likeCount', 'favoriteCount', 'commentCount',\n",
              "       'video_id', 'channelTitle', 'title', 'description', 'tags', 'duration',\n",
              "       'definition'],\n",
              "      dtype='object')"
            ]
          },
          "metadata": {},
          "execution_count": 35
        }
      ]
    },
    {
      "cell_type": "code",
      "source": [
        "df_scaled"
      ],
      "metadata": {
        "colab": {
          "base_uri": "https://localhost:8080/",
          "height": 1000
        },
        "id": "lsfK6wsO0ySX",
        "outputId": "7a4211b0-a51a-40cb-ae41-d27498da0f7e"
      },
      "execution_count": null,
      "outputs": [
        {
          "output_type": "execute_result",
          "data": {
            "text/plain": [
              "                           Unnamed: 0  viewCount  likeCount  favoriteCount  \\\n",
              "publishedAt                                                                  \n",
              "2023-08-20 12:30:08+00:00           0       7299        241              0   \n",
              "2023-08-20 10:30:01+00:00           1       4212        144              0   \n",
              "2023-08-20 09:30:00+00:00           2       2849         79              0   \n",
              "2023-08-20 07:30:05+00:00           3       3991        116              0   \n",
              "2023-08-20 05:30:06+00:00           4     101950       6230              0   \n",
              "...                               ...        ...        ...            ...   \n",
              "2011-01-20 13:34:53+00:00       19340     636734        943              0   \n",
              "2011-01-13 11:27:42+00:00       19341      86841       1084              0   \n",
              "2011-01-07 09:36:16+00:00       19342     364995       1865              0   \n",
              "2011-01-03 07:10:25+00:00       19343   13663672      67331              0   \n",
              "2010-12-23 10:29:50+00:00       19344    1662209      29257              0   \n",
              "\n",
              "                           commentCount     video_id channelTitle  \\\n",
              "publishedAt                                                         \n",
              "2023-08-20 12:30:08+00:00            59  F44TK5EHCRo     T-Series   \n",
              "2023-08-20 10:30:01+00:00            32  adx8Rsjp-c0     T-Series   \n",
              "2023-08-20 09:30:00+00:00            31  36nQLyrR7Sw     T-Series   \n",
              "2023-08-20 07:30:05+00:00            36  TKbifi5AMQo     T-Series   \n",
              "2023-08-20 05:30:06+00:00           434  NNA21SoGqss     T-Series   \n",
              "...                                 ...          ...          ...   \n",
              "2011-01-20 13:34:53+00:00            18  aouxczBof58     T-Series   \n",
              "2011-01-13 11:27:42+00:00             4  NPhY3g0WE8c     T-Series   \n",
              "2011-01-07 09:36:16+00:00            30  ZVYTLHLpgAw     T-Series   \n",
              "2011-01-03 07:10:25+00:00          2483  hArZnPWxb4A     T-Series   \n",
              "2010-12-23 10:29:50+00:00            73  7_4K0iDtOvs     T-Series   \n",
              "\n",
              "                                                                       title  \\\n",
              "publishedAt                                                                    \n",
              "2023-08-20 12:30:08+00:00  RAFTA RAFTA (Lo-Fi Mix) | Dj Moody | KK | Jeet...   \n",
              "2023-08-20 10:30:01+00:00  TUM HO MERA PYAR (Lo-Fi Mix) | Dj Moody | KK, ...   \n",
              "2023-08-20 09:30:00+00:00  ISHQ HOTHON SE (Lo-Fi Mix) (Audio) | Dj Moody ...   \n",
              "2023-08-20 07:30:05+00:00  HUMKO PYAR HUA (Lo-Fi Mix) (Audio) | Dj Moody ...   \n",
              "2023-08-20 05:30:06+00:00  Har Har Mahadev (Lyrical Video): Sachet Tandon...   \n",
              "...                                                                      ...   \n",
              "2011-01-20 13:34:53+00:00  ROLA PE GAYA  FULL SONG| PATIALA HOUSE | AKSHA...   \n",
              "2011-01-13 11:27:42+00:00                  Patiala House-Official Trailer II   \n",
              "2011-01-07 09:36:16+00:00  Kyun Mein Jagoon Song (Patiala House ) | Aksha...   \n",
              "2011-01-03 07:10:25+00:00  Laung Da Lashkara (Patiala House) Full Song | ...   \n",
              "2010-12-23 10:29:50+00:00  \"Patiala House\" Official Trailer 2 | Akshay Kumar   \n",
              "\n",
              "                                                                 description  \\\n",
              "publishedAt                                                                    \n",
              "2023-08-20 12:30:08+00:00  Presenting the song \"RAFTA RAFTA (Lo-Fi Mix)\" ...   \n",
              "2023-08-20 10:30:01+00:00  Presenting the song \"TUM HO MERA PYAR (Lo-Fi M...   \n",
              "2023-08-20 09:30:00+00:00  Presenting the song \"ISHQ HOTHON SE (Lo-Fi Mix...   \n",
              "2023-08-20 07:30:05+00:00  Presenting the song \"HUMKO PYAR HUA (Lo-Fi Mix...   \n",
              "2023-08-20 05:30:06+00:00  T-Series Presents \"Har Har Mahadev (Lyrical Vi...   \n",
              "...                                                                      ...   \n",
              "2011-01-20 13:34:53+00:00  Watch the song \"Rola Pe Gaya\" from the movie '...   \n",
              "2011-01-13 11:27:42+00:00      Patiala house upcoming movie official trailer   \n",
              "2011-01-07 09:36:16+00:00  \"Here's presenting the song \"\"Kyun Main Jagoon...   \n",
              "2011-01-03 07:10:25+00:00  Watch the full video song \"Laung Da Lashkara\" ...   \n",
              "2010-12-23 10:29:50+00:00  Here's presenting the official trailer from th...   \n",
              "\n",
              "                                                                        tags  \\\n",
              "publishedAt                                                                    \n",
              "2023-08-20 12:30:08+00:00  ['hindi songs 2023', 'hindi songs new', 'bolly...   \n",
              "2023-08-20 10:30:01+00:00  ['hindi songs 2023', 'hindi songs new', 'bolly...   \n",
              "2023-08-20 09:30:00+00:00  ['hindi songs 2023', 'hindi songs new', 'bolly...   \n",
              "2023-08-20 07:30:05+00:00  ['hindi songs 2023', 'hindi songs new', 'bolly...   \n",
              "2023-08-20 05:30:06+00:00  ['hindi songs 2023', 'hindi songs new', 'bolly...   \n",
              "...                                                                      ...   \n",
              "2011-01-20 13:34:53+00:00  ['Rola Pe Gaya', 'Anushka Sharma', 'Patiala Ho...   \n",
              "2011-01-13 11:27:42+00:00  ['new songs', 'official trailer', 'Songs', 'Di...   \n",
              "2011-01-07 09:36:16+00:00  ['film songs', 'songs', 'bollywood song', 'anu...   \n",
              "2011-01-03 07:10:25+00:00  ['laungda lashkara', 'laung da lashkara', 'aks...   \n",
              "2010-12-23 10:29:50+00:00  ['Patiala House movie film', 'Patiaala House T...   \n",
              "\n",
              "                          duration definition  \n",
              "publishedAt                                    \n",
              "2023-08-20 12:30:08+00:00  PT4M42S         hd  \n",
              "2023-08-20 10:30:01+00:00  PT5M27S         hd  \n",
              "2023-08-20 09:30:00+00:00  PT6M10S         hd  \n",
              "2023-08-20 07:30:05+00:00  PT5M59S         hd  \n",
              "2023-08-20 05:30:06+00:00  PT3M37S         hd  \n",
              "...                            ...        ...  \n",
              "2011-01-20 13:34:53+00:00  PT1M31S         hd  \n",
              "2011-01-13 11:27:42+00:00  PT3M32S         sd  \n",
              "2011-01-07 09:36:16+00:00  PT1M46S         sd  \n",
              "2011-01-03 07:10:25+00:00  PT2M51S         hd  \n",
              "2010-12-23 10:29:50+00:00  PT3M10S         sd  \n",
              "\n",
              "[19345 rows x 12 columns]"
            ],
            "text/html": [
              "\n",
              "  <div id=\"df-72b021e3-57d9-4996-9634-ef921e0c7340\" class=\"colab-df-container\">\n",
              "    <div>\n",
              "<style scoped>\n",
              "    .dataframe tbody tr th:only-of-type {\n",
              "        vertical-align: middle;\n",
              "    }\n",
              "\n",
              "    .dataframe tbody tr th {\n",
              "        vertical-align: top;\n",
              "    }\n",
              "\n",
              "    .dataframe thead th {\n",
              "        text-align: right;\n",
              "    }\n",
              "</style>\n",
              "<table border=\"1\" class=\"dataframe\">\n",
              "  <thead>\n",
              "    <tr style=\"text-align: right;\">\n",
              "      <th></th>\n",
              "      <th>Unnamed: 0</th>\n",
              "      <th>viewCount</th>\n",
              "      <th>likeCount</th>\n",
              "      <th>favoriteCount</th>\n",
              "      <th>commentCount</th>\n",
              "      <th>video_id</th>\n",
              "      <th>channelTitle</th>\n",
              "      <th>title</th>\n",
              "      <th>description</th>\n",
              "      <th>tags</th>\n",
              "      <th>duration</th>\n",
              "      <th>definition</th>\n",
              "    </tr>\n",
              "    <tr>\n",
              "      <th>publishedAt</th>\n",
              "      <th></th>\n",
              "      <th></th>\n",
              "      <th></th>\n",
              "      <th></th>\n",
              "      <th></th>\n",
              "      <th></th>\n",
              "      <th></th>\n",
              "      <th></th>\n",
              "      <th></th>\n",
              "      <th></th>\n",
              "      <th></th>\n",
              "      <th></th>\n",
              "    </tr>\n",
              "  </thead>\n",
              "  <tbody>\n",
              "    <tr>\n",
              "      <th>2023-08-20 12:30:08+00:00</th>\n",
              "      <td>0</td>\n",
              "      <td>7299</td>\n",
              "      <td>241</td>\n",
              "      <td>0</td>\n",
              "      <td>59</td>\n",
              "      <td>F44TK5EHCRo</td>\n",
              "      <td>T-Series</td>\n",
              "      <td>RAFTA RAFTA (Lo-Fi Mix) | Dj Moody | KK | Jeet...</td>\n",
              "      <td>Presenting the song \"RAFTA RAFTA (Lo-Fi Mix)\" ...</td>\n",
              "      <td>['hindi songs 2023', 'hindi songs new', 'bolly...</td>\n",
              "      <td>PT4M42S</td>\n",
              "      <td>hd</td>\n",
              "    </tr>\n",
              "    <tr>\n",
              "      <th>2023-08-20 10:30:01+00:00</th>\n",
              "      <td>1</td>\n",
              "      <td>4212</td>\n",
              "      <td>144</td>\n",
              "      <td>0</td>\n",
              "      <td>32</td>\n",
              "      <td>adx8Rsjp-c0</td>\n",
              "      <td>T-Series</td>\n",
              "      <td>TUM HO MERA PYAR (Lo-Fi Mix) | Dj Moody | KK, ...</td>\n",
              "      <td>Presenting the song \"TUM HO MERA PYAR (Lo-Fi M...</td>\n",
              "      <td>['hindi songs 2023', 'hindi songs new', 'bolly...</td>\n",
              "      <td>PT5M27S</td>\n",
              "      <td>hd</td>\n",
              "    </tr>\n",
              "    <tr>\n",
              "      <th>2023-08-20 09:30:00+00:00</th>\n",
              "      <td>2</td>\n",
              "      <td>2849</td>\n",
              "      <td>79</td>\n",
              "      <td>0</td>\n",
              "      <td>31</td>\n",
              "      <td>36nQLyrR7Sw</td>\n",
              "      <td>T-Series</td>\n",
              "      <td>ISHQ HOTHON SE (Lo-Fi Mix) (Audio) | Dj Moody ...</td>\n",
              "      <td>Presenting the song \"ISHQ HOTHON SE (Lo-Fi Mix...</td>\n",
              "      <td>['hindi songs 2023', 'hindi songs new', 'bolly...</td>\n",
              "      <td>PT6M10S</td>\n",
              "      <td>hd</td>\n",
              "    </tr>\n",
              "    <tr>\n",
              "      <th>2023-08-20 07:30:05+00:00</th>\n",
              "      <td>3</td>\n",
              "      <td>3991</td>\n",
              "      <td>116</td>\n",
              "      <td>0</td>\n",
              "      <td>36</td>\n",
              "      <td>TKbifi5AMQo</td>\n",
              "      <td>T-Series</td>\n",
              "      <td>HUMKO PYAR HUA (Lo-Fi Mix) (Audio) | Dj Moody ...</td>\n",
              "      <td>Presenting the song \"HUMKO PYAR HUA (Lo-Fi Mix...</td>\n",
              "      <td>['hindi songs 2023', 'hindi songs new', 'bolly...</td>\n",
              "      <td>PT5M59S</td>\n",
              "      <td>hd</td>\n",
              "    </tr>\n",
              "    <tr>\n",
              "      <th>2023-08-20 05:30:06+00:00</th>\n",
              "      <td>4</td>\n",
              "      <td>101950</td>\n",
              "      <td>6230</td>\n",
              "      <td>0</td>\n",
              "      <td>434</td>\n",
              "      <td>NNA21SoGqss</td>\n",
              "      <td>T-Series</td>\n",
              "      <td>Har Har Mahadev (Lyrical Video): Sachet Tandon...</td>\n",
              "      <td>T-Series Presents \"Har Har Mahadev (Lyrical Vi...</td>\n",
              "      <td>['hindi songs 2023', 'hindi songs new', 'bolly...</td>\n",
              "      <td>PT3M37S</td>\n",
              "      <td>hd</td>\n",
              "    </tr>\n",
              "    <tr>\n",
              "      <th>...</th>\n",
              "      <td>...</td>\n",
              "      <td>...</td>\n",
              "      <td>...</td>\n",
              "      <td>...</td>\n",
              "      <td>...</td>\n",
              "      <td>...</td>\n",
              "      <td>...</td>\n",
              "      <td>...</td>\n",
              "      <td>...</td>\n",
              "      <td>...</td>\n",
              "      <td>...</td>\n",
              "      <td>...</td>\n",
              "    </tr>\n",
              "    <tr>\n",
              "      <th>2011-01-20 13:34:53+00:00</th>\n",
              "      <td>19340</td>\n",
              "      <td>636734</td>\n",
              "      <td>943</td>\n",
              "      <td>0</td>\n",
              "      <td>18</td>\n",
              "      <td>aouxczBof58</td>\n",
              "      <td>T-Series</td>\n",
              "      <td>ROLA PE GAYA  FULL SONG| PATIALA HOUSE | AKSHA...</td>\n",
              "      <td>Watch the song \"Rola Pe Gaya\" from the movie '...</td>\n",
              "      <td>['Rola Pe Gaya', 'Anushka Sharma', 'Patiala Ho...</td>\n",
              "      <td>PT1M31S</td>\n",
              "      <td>hd</td>\n",
              "    </tr>\n",
              "    <tr>\n",
              "      <th>2011-01-13 11:27:42+00:00</th>\n",
              "      <td>19341</td>\n",
              "      <td>86841</td>\n",
              "      <td>1084</td>\n",
              "      <td>0</td>\n",
              "      <td>4</td>\n",
              "      <td>NPhY3g0WE8c</td>\n",
              "      <td>T-Series</td>\n",
              "      <td>Patiala House-Official Trailer II</td>\n",
              "      <td>Patiala house upcoming movie official trailer</td>\n",
              "      <td>['new songs', 'official trailer', 'Songs', 'Di...</td>\n",
              "      <td>PT3M32S</td>\n",
              "      <td>sd</td>\n",
              "    </tr>\n",
              "    <tr>\n",
              "      <th>2011-01-07 09:36:16+00:00</th>\n",
              "      <td>19342</td>\n",
              "      <td>364995</td>\n",
              "      <td>1865</td>\n",
              "      <td>0</td>\n",
              "      <td>30</td>\n",
              "      <td>ZVYTLHLpgAw</td>\n",
              "      <td>T-Series</td>\n",
              "      <td>Kyun Mein Jagoon Song (Patiala House ) | Aksha...</td>\n",
              "      <td>\"Here's presenting the song \"\"Kyun Main Jagoon...</td>\n",
              "      <td>['film songs', 'songs', 'bollywood song', 'anu...</td>\n",
              "      <td>PT1M46S</td>\n",
              "      <td>sd</td>\n",
              "    </tr>\n",
              "    <tr>\n",
              "      <th>2011-01-03 07:10:25+00:00</th>\n",
              "      <td>19343</td>\n",
              "      <td>13663672</td>\n",
              "      <td>67331</td>\n",
              "      <td>0</td>\n",
              "      <td>2483</td>\n",
              "      <td>hArZnPWxb4A</td>\n",
              "      <td>T-Series</td>\n",
              "      <td>Laung Da Lashkara (Patiala House) Full Song | ...</td>\n",
              "      <td>Watch the full video song \"Laung Da Lashkara\" ...</td>\n",
              "      <td>['laungda lashkara', 'laung da lashkara', 'aks...</td>\n",
              "      <td>PT2M51S</td>\n",
              "      <td>hd</td>\n",
              "    </tr>\n",
              "    <tr>\n",
              "      <th>2010-12-23 10:29:50+00:00</th>\n",
              "      <td>19344</td>\n",
              "      <td>1662209</td>\n",
              "      <td>29257</td>\n",
              "      <td>0</td>\n",
              "      <td>73</td>\n",
              "      <td>7_4K0iDtOvs</td>\n",
              "      <td>T-Series</td>\n",
              "      <td>\"Patiala House\" Official Trailer 2 | Akshay Kumar</td>\n",
              "      <td>Here's presenting the official trailer from th...</td>\n",
              "      <td>['Patiala House movie film', 'Patiaala House T...</td>\n",
              "      <td>PT3M10S</td>\n",
              "      <td>sd</td>\n",
              "    </tr>\n",
              "  </tbody>\n",
              "</table>\n",
              "<p>19345 rows × 12 columns</p>\n",
              "</div>\n",
              "    <div class=\"colab-df-buttons\">\n",
              "\n",
              "  <div class=\"colab-df-container\">\n",
              "    <button class=\"colab-df-convert\" onclick=\"convertToInteractive('df-72b021e3-57d9-4996-9634-ef921e0c7340')\"\n",
              "            title=\"Convert this dataframe to an interactive table.\"\n",
              "            style=\"display:none;\">\n",
              "\n",
              "  <svg xmlns=\"http://www.w3.org/2000/svg\" height=\"24px\" viewBox=\"0 -960 960 960\">\n",
              "    <path d=\"M120-120v-720h720v720H120Zm60-500h600v-160H180v160Zm220 220h160v-160H400v160Zm0 220h160v-160H400v160ZM180-400h160v-160H180v160Zm440 0h160v-160H620v160ZM180-180h160v-160H180v160Zm440 0h160v-160H620v160Z\"/>\n",
              "  </svg>\n",
              "    </button>\n",
              "\n",
              "  <style>\n",
              "    .colab-df-container {\n",
              "      display:flex;\n",
              "      gap: 12px;\n",
              "    }\n",
              "\n",
              "    .colab-df-convert {\n",
              "      background-color: #E8F0FE;\n",
              "      border: none;\n",
              "      border-radius: 50%;\n",
              "      cursor: pointer;\n",
              "      display: none;\n",
              "      fill: #1967D2;\n",
              "      height: 32px;\n",
              "      padding: 0 0 0 0;\n",
              "      width: 32px;\n",
              "    }\n",
              "\n",
              "    .colab-df-convert:hover {\n",
              "      background-color: #E2EBFA;\n",
              "      box-shadow: 0px 1px 2px rgba(60, 64, 67, 0.3), 0px 1px 3px 1px rgba(60, 64, 67, 0.15);\n",
              "      fill: #174EA6;\n",
              "    }\n",
              "\n",
              "    .colab-df-buttons div {\n",
              "      margin-bottom: 4px;\n",
              "    }\n",
              "\n",
              "    [theme=dark] .colab-df-convert {\n",
              "      background-color: #3B4455;\n",
              "      fill: #D2E3FC;\n",
              "    }\n",
              "\n",
              "    [theme=dark] .colab-df-convert:hover {\n",
              "      background-color: #434B5C;\n",
              "      box-shadow: 0px 1px 3px 1px rgba(0, 0, 0, 0.15);\n",
              "      filter: drop-shadow(0px 1px 2px rgba(0, 0, 0, 0.3));\n",
              "      fill: #FFFFFF;\n",
              "    }\n",
              "  </style>\n",
              "\n",
              "    <script>\n",
              "      const buttonEl =\n",
              "        document.querySelector('#df-72b021e3-57d9-4996-9634-ef921e0c7340 button.colab-df-convert');\n",
              "      buttonEl.style.display =\n",
              "        google.colab.kernel.accessAllowed ? 'block' : 'none';\n",
              "\n",
              "      async function convertToInteractive(key) {\n",
              "        const element = document.querySelector('#df-72b021e3-57d9-4996-9634-ef921e0c7340');\n",
              "        const dataTable =\n",
              "          await google.colab.kernel.invokeFunction('convertToInteractive',\n",
              "                                                    [key], {});\n",
              "        if (!dataTable) return;\n",
              "\n",
              "        const docLinkHtml = 'Like what you see? Visit the ' +\n",
              "          '<a target=\"_blank\" href=https://colab.research.google.com/notebooks/data_table.ipynb>data table notebook</a>'\n",
              "          + ' to learn more about interactive tables.';\n",
              "        element.innerHTML = '';\n",
              "        dataTable['output_type'] = 'display_data';\n",
              "        await google.colab.output.renderOutput(dataTable, element);\n",
              "        const docLink = document.createElement('div');\n",
              "        docLink.innerHTML = docLinkHtml;\n",
              "        element.appendChild(docLink);\n",
              "      }\n",
              "    </script>\n",
              "  </div>\n",
              "\n",
              "\n",
              "<div id=\"df-994a0663-2d1e-4291-884f-336d1b569cf3\">\n",
              "  <button class=\"colab-df-quickchart\" onclick=\"quickchart('df-994a0663-2d1e-4291-884f-336d1b569cf3')\"\n",
              "            title=\"Suggest charts\"\n",
              "            style=\"display:none;\">\n",
              "\n",
              "<svg xmlns=\"http://www.w3.org/2000/svg\" height=\"24px\"viewBox=\"0 0 24 24\"\n",
              "     width=\"24px\">\n",
              "    <g>\n",
              "        <path d=\"M19 3H5c-1.1 0-2 .9-2 2v14c0 1.1.9 2 2 2h14c1.1 0 2-.9 2-2V5c0-1.1-.9-2-2-2zM9 17H7v-7h2v7zm4 0h-2V7h2v10zm4 0h-2v-4h2v4z\"/>\n",
              "    </g>\n",
              "</svg>\n",
              "  </button>\n",
              "\n",
              "<style>\n",
              "  .colab-df-quickchart {\n",
              "      --bg-color: #E8F0FE;\n",
              "      --fill-color: #1967D2;\n",
              "      --hover-bg-color: #E2EBFA;\n",
              "      --hover-fill-color: #174EA6;\n",
              "      --disabled-fill-color: #AAA;\n",
              "      --disabled-bg-color: #DDD;\n",
              "  }\n",
              "\n",
              "  [theme=dark] .colab-df-quickchart {\n",
              "      --bg-color: #3B4455;\n",
              "      --fill-color: #D2E3FC;\n",
              "      --hover-bg-color: #434B5C;\n",
              "      --hover-fill-color: #FFFFFF;\n",
              "      --disabled-bg-color: #3B4455;\n",
              "      --disabled-fill-color: #666;\n",
              "  }\n",
              "\n",
              "  .colab-df-quickchart {\n",
              "    background-color: var(--bg-color);\n",
              "    border: none;\n",
              "    border-radius: 50%;\n",
              "    cursor: pointer;\n",
              "    display: none;\n",
              "    fill: var(--fill-color);\n",
              "    height: 32px;\n",
              "    padding: 0;\n",
              "    width: 32px;\n",
              "  }\n",
              "\n",
              "  .colab-df-quickchart:hover {\n",
              "    background-color: var(--hover-bg-color);\n",
              "    box-shadow: 0 1px 2px rgba(60, 64, 67, 0.3), 0 1px 3px 1px rgba(60, 64, 67, 0.15);\n",
              "    fill: var(--button-hover-fill-color);\n",
              "  }\n",
              "\n",
              "  .colab-df-quickchart-complete:disabled,\n",
              "  .colab-df-quickchart-complete:disabled:hover {\n",
              "    background-color: var(--disabled-bg-color);\n",
              "    fill: var(--disabled-fill-color);\n",
              "    box-shadow: none;\n",
              "  }\n",
              "\n",
              "  .colab-df-spinner {\n",
              "    border: 2px solid var(--fill-color);\n",
              "    border-color: transparent;\n",
              "    border-bottom-color: var(--fill-color);\n",
              "    animation:\n",
              "      spin 1s steps(1) infinite;\n",
              "  }\n",
              "\n",
              "  @keyframes spin {\n",
              "    0% {\n",
              "      border-color: transparent;\n",
              "      border-bottom-color: var(--fill-color);\n",
              "      border-left-color: var(--fill-color);\n",
              "    }\n",
              "    20% {\n",
              "      border-color: transparent;\n",
              "      border-left-color: var(--fill-color);\n",
              "      border-top-color: var(--fill-color);\n",
              "    }\n",
              "    30% {\n",
              "      border-color: transparent;\n",
              "      border-left-color: var(--fill-color);\n",
              "      border-top-color: var(--fill-color);\n",
              "      border-right-color: var(--fill-color);\n",
              "    }\n",
              "    40% {\n",
              "      border-color: transparent;\n",
              "      border-right-color: var(--fill-color);\n",
              "      border-top-color: var(--fill-color);\n",
              "    }\n",
              "    60% {\n",
              "      border-color: transparent;\n",
              "      border-right-color: var(--fill-color);\n",
              "    }\n",
              "    80% {\n",
              "      border-color: transparent;\n",
              "      border-right-color: var(--fill-color);\n",
              "      border-bottom-color: var(--fill-color);\n",
              "    }\n",
              "    90% {\n",
              "      border-color: transparent;\n",
              "      border-bottom-color: var(--fill-color);\n",
              "    }\n",
              "  }\n",
              "</style>\n",
              "\n",
              "  <script>\n",
              "    async function quickchart(key) {\n",
              "      const quickchartButtonEl =\n",
              "        document.querySelector('#' + key + ' button');\n",
              "      quickchartButtonEl.disabled = true;  // To prevent multiple clicks.\n",
              "      quickchartButtonEl.classList.add('colab-df-spinner');\n",
              "      try {\n",
              "        const charts = await google.colab.kernel.invokeFunction(\n",
              "            'suggestCharts', [key], {});\n",
              "      } catch (error) {\n",
              "        console.error('Error during call to suggestCharts:', error);\n",
              "      }\n",
              "      quickchartButtonEl.classList.remove('colab-df-spinner');\n",
              "      quickchartButtonEl.classList.add('colab-df-quickchart-complete');\n",
              "    }\n",
              "    (() => {\n",
              "      let quickchartButtonEl =\n",
              "        document.querySelector('#df-994a0663-2d1e-4291-884f-336d1b569cf3 button');\n",
              "      quickchartButtonEl.style.display =\n",
              "        google.colab.kernel.accessAllowed ? 'block' : 'none';\n",
              "    })();\n",
              "  </script>\n",
              "</div>\n",
              "\n",
              "  <div id=\"id_8123225e-455b-45c0-8e56-17c11dd6b8a1\">\n",
              "    <style>\n",
              "      .colab-df-generate {\n",
              "        background-color: #E8F0FE;\n",
              "        border: none;\n",
              "        border-radius: 50%;\n",
              "        cursor: pointer;\n",
              "        display: none;\n",
              "        fill: #1967D2;\n",
              "        height: 32px;\n",
              "        padding: 0 0 0 0;\n",
              "        width: 32px;\n",
              "      }\n",
              "\n",
              "      .colab-df-generate:hover {\n",
              "        background-color: #E2EBFA;\n",
              "        box-shadow: 0px 1px 2px rgba(60, 64, 67, 0.3), 0px 1px 3px 1px rgba(60, 64, 67, 0.15);\n",
              "        fill: #174EA6;\n",
              "      }\n",
              "\n",
              "      [theme=dark] .colab-df-generate {\n",
              "        background-color: #3B4455;\n",
              "        fill: #D2E3FC;\n",
              "      }\n",
              "\n",
              "      [theme=dark] .colab-df-generate:hover {\n",
              "        background-color: #434B5C;\n",
              "        box-shadow: 0px 1px 3px 1px rgba(0, 0, 0, 0.15);\n",
              "        filter: drop-shadow(0px 1px 2px rgba(0, 0, 0, 0.3));\n",
              "        fill: #FFFFFF;\n",
              "      }\n",
              "    </style>\n",
              "    <button class=\"colab-df-generate\" onclick=\"generateWithVariable('df_scaled')\"\n",
              "            title=\"Generate code using this dataframe.\"\n",
              "            style=\"display:none;\">\n",
              "\n",
              "  <svg xmlns=\"http://www.w3.org/2000/svg\" height=\"24px\"viewBox=\"0 0 24 24\"\n",
              "       width=\"24px\">\n",
              "    <path d=\"M7,19H8.4L18.45,9,17,7.55,7,17.6ZM5,21V16.75L18.45,3.32a2,2,0,0,1,2.83,0l1.4,1.43a1.91,1.91,0,0,1,.58,1.4,1.91,1.91,0,0,1-.58,1.4L9.25,21ZM18.45,9,17,7.55Zm-12,3A5.31,5.31,0,0,0,4.9,8.1,5.31,5.31,0,0,0,1,6.5,5.31,5.31,0,0,0,4.9,4.9,5.31,5.31,0,0,0,6.5,1,5.31,5.31,0,0,0,8.1,4.9,5.31,5.31,0,0,0,12,6.5,5.46,5.46,0,0,0,6.5,12Z\"/>\n",
              "  </svg>\n",
              "    </button>\n",
              "    <script>\n",
              "      (() => {\n",
              "      const buttonEl =\n",
              "        document.querySelector('#id_8123225e-455b-45c0-8e56-17c11dd6b8a1 button.colab-df-generate');\n",
              "      buttonEl.style.display =\n",
              "        google.colab.kernel.accessAllowed ? 'block' : 'none';\n",
              "\n",
              "      buttonEl.onclick = () => {\n",
              "        google.colab.notebook.generateWithVariable('df_scaled');\n",
              "      }\n",
              "      })();\n",
              "    </script>\n",
              "  </div>\n",
              "\n",
              "    </div>\n",
              "  </div>\n"
            ],
            "application/vnd.google.colaboratory.intrinsic+json": {
              "type": "dataframe",
              "variable_name": "df_scaled",
              "summary": "{\n  \"name\": \"df_scaled\",\n  \"rows\": 19345,\n  \"fields\": [\n    {\n      \"column\": \"publishedAt\",\n      \"properties\": {\n        \"dtype\": \"date\",\n        \"min\": \"2010-12-23 10:29:50+00:00\",\n        \"max\": \"2023-08-20 12:30:08+00:00\",\n        \"num_unique_values\": 19181,\n        \"samples\": [\n          \"2011-05-06 16:01:16+00:00\",\n          \"2018-10-24 13:19:24+00:00\",\n          \"2015-10-10 06:38:16+00:00\"\n        ],\n        \"semantic_type\": \"\",\n        \"description\": \"\"\n      }\n    },\n    {\n      \"column\": \"Unnamed: 0\",\n      \"properties\": {\n        \"dtype\": \"number\",\n        \"std\": 5584,\n        \"min\": 0,\n        \"max\": 19344,\n        \"num_unique_values\": 19345,\n        \"samples\": [\n          18848,\n          14930,\n          11723\n        ],\n        \"semantic_type\": \"\",\n        \"description\": \"\"\n      }\n    },\n    {\n      \"column\": \"viewCount\",\n      \"properties\": {\n        \"dtype\": \"number\",\n        \"std\": 54849729,\n        \"min\": 0,\n        \"max\": 1536719459,\n        \"num_unique_values\": 19131,\n        \"samples\": [\n          649898,\n          1445335,\n          169450867\n        ],\n        \"semantic_type\": \"\",\n        \"description\": \"\"\n      }\n    },\n    {\n      \"column\": \"likeCount\",\n      \"properties\": {\n        \"dtype\": \"number\",\n        \"std\": 361009,\n        \"min\": 0,\n        \"max\": 12840215,\n        \"num_unique_values\": 11932,\n        \"samples\": [\n          19845,\n          3150,\n          4086\n        ],\n        \"semantic_type\": \"\",\n        \"description\": \"\"\n      }\n    },\n    {\n      \"column\": \"favoriteCount\",\n      \"properties\": {\n        \"dtype\": \"number\",\n        \"std\": 0,\n        \"min\": 0,\n        \"max\": 0,\n        \"num_unique_values\": 1,\n        \"samples\": [\n          0\n        ],\n        \"semantic_type\": \"\",\n        \"description\": \"\"\n      }\n    },\n    {\n      \"column\": \"commentCount\",\n      \"properties\": {\n        \"dtype\": \"number\",\n        \"std\": 12487,\n        \"min\": 0,\n        \"max\": 420375,\n        \"num_unique_values\": 4493,\n        \"samples\": [\n          170\n        ],\n        \"semantic_type\": \"\",\n        \"description\": \"\"\n      }\n    },\n    {\n      \"column\": \"video_id\",\n      \"properties\": {\n        \"dtype\": \"string\",\n        \"num_unique_values\": 19345,\n        \"samples\": [\n          \"UJqAlcTIvS0\"\n        ],\n        \"semantic_type\": \"\",\n        \"description\": \"\"\n      }\n    },\n    {\n      \"column\": \"channelTitle\",\n      \"properties\": {\n        \"dtype\": \"category\",\n        \"num_unique_values\": 1,\n        \"samples\": [\n          \"T-Series\"\n        ],\n        \"semantic_type\": \"\",\n        \"description\": \"\"\n      }\n    },\n    {\n      \"column\": \"title\",\n      \"properties\": {\n        \"dtype\": \"string\",\n        \"num_unique_values\": 19220,\n        \"samples\": [\n          \"Om Namah Shivay | Udit Narayan | Anis Ali Sabri | Shabbir Ahmed | Bhushan Kumar\"\n        ],\n        \"semantic_type\": \"\",\n        \"description\": \"\"\n      }\n    },\n    {\n      \"column\": \"description\",\n      \"properties\": {\n        \"dtype\": \"string\",\n        \"num_unique_values\": 18359,\n        \"samples\": [\n          \"Watch the remix version of 'Sooraj Dooba Hain' by DJ Kiran Kamath from Bhushan Kumar's \\\"Roy\\\", a T-Series Film, Directed by Vikramjit Singh, Produced by Divya Khosla Kumar, Bhushan Kumar and Krishan Kumar and Co-Produced by Ajay Kapoor, starring Ranbir Kapoor in a Dynamic Role, Arjun Rampal and Jacqueline Fernandez.\\n\\nSONG: SOORAJ DOOBA HAIN - REMIX\\nSINGER: ARIJIT SINGH, ADITI SINGH SHARMA\\nMUSIC: AMAAL MALLIK\\nLYRICS: KUMAAR\\nSONG PROGRAMMED BY: ABHIJIT VAGHANI & ARMAAN MALIK\\nADDITIONAL PROGRAMMING BY: AMAAL MALLIK, RAVI BHAVSAR & NAVED PARVEZ\\nREMIXED BY : DJ KIRAN KAMATH\\nMUSIC LABEL: T-SERIES\\nMIXED & MASTERED BY - ERIC PILLAI @ FUTURE SOUND OF BOMBAY\\n\\nBuy it from iTunes - https://itunes.apple.com/in/album/roy-remix-ep/id961999263?ls=1\\n\\nSUBSCRIBE and BE THE FIRST ONE TO WATCH THE FULL SONGS !!\\n\\nEnjoy and stay connected with us!!\\n\\nSubscribe T-Series channel for unlimited entertainment\\nhttp://www.youtube.com/tseries\\n\\n\\n\\n\\nLike us on Facebook\\nhttp://www.facebook.com/tseriesmusic\\n\\nFollow us on\\nhttp://www.twitter.com/tseries\"\n        ],\n        \"semantic_type\": \"\",\n        \"description\": \"\"\n      }\n    },\n    {\n      \"column\": \"tags\",\n      \"properties\": {\n        \"dtype\": \"string\",\n        \"num_unique_values\": 14620,\n        \"samples\": [\n          \"['t-series', 'latest songs', 'Songs', 'tseries songs', 'tseries offical channel', 'Songs 2019', 'hindi songs', 'new songs 2019', 'songs', 'movie songs', 'film songs', 'bollywood songs', 'latest hindi songs tseries', 'ries', 't-series music', 'new songs']\"\n        ],\n        \"semantic_type\": \"\",\n        \"description\": \"\"\n      }\n    },\n    {\n      \"column\": \"duration\",\n      \"properties\": {\n        \"dtype\": \"category\",\n        \"num_unique_values\": 1448,\n        \"samples\": [\n          \"PT24M29S\"\n        ],\n        \"semantic_type\": \"\",\n        \"description\": \"\"\n      }\n    },\n    {\n      \"column\": \"definition\",\n      \"properties\": {\n        \"dtype\": \"category\",\n        \"num_unique_values\": 2,\n        \"samples\": [\n          \"sd\"\n        ],\n        \"semantic_type\": \"\",\n        \"description\": \"\"\n      }\n    }\n  ]\n}"
            }
          },
          "metadata": {},
          "execution_count": 33
        }
      ]
    },
    {
      "cell_type": "code",
      "source": [
        "from sklearn.preprocessing import LabelEncoder\n",
        "scaler=LabelEncoder()\n",
        "df_scaled=scaler.fit_transform(object_columns)\n",
        "df_scaled"
      ],
      "metadata": {
        "colab": {
          "base_uri": "https://localhost:8080/"
        },
        "id": "zOR0OSMC11Ug",
        "outputId": "1e62c49e-b9a3-46f1-970d-4881a1ec0754"
      },
      "execution_count": null,
      "outputs": [
        {
          "output_type": "execute_result",
          "data": {
            "text/plain": [
              "array([6, 0, 5, 2, 4, 3, 1])"
            ]
          },
          "metadata": {},
          "execution_count": 40
        }
      ]
    },
    {
      "cell_type": "code",
      "source": [
        "df_scaled1=pd.DataFrame(df_scaled)"
      ],
      "metadata": {
        "id": "RTLnag1J1617"
      },
      "execution_count": null,
      "outputs": []
    },
    {
      "cell_type": "code",
      "source": [
        "from sklearn.preprocessing import StandardScaler\n",
        "scaler = StandardScaler()\n",
        "df_numerical_scaled = pd.DataFrame(scaler.fit_transform(df_numerical), columns=numerical_columns)"
      ],
      "metadata": {
        "id": "e9jlxB-M2MLW"
      },
      "execution_count": null,
      "outputs": []
    },
    {
      "cell_type": "code",
      "source": [],
      "metadata": {
        "id": "lGwHHX1E2fYh"
      },
      "execution_count": null,
      "outputs": []
    },
    {
      "cell_type": "code",
      "source": [
        "df_scaled = pd.concat([df_numerical_scaled, df_scaled1], axis=1)"
      ],
      "metadata": {
        "id": "BO0fPHba1_bU"
      },
      "execution_count": null,
      "outputs": []
    },
    {
      "cell_type": "code",
      "source": [
        "df_scaled"
      ],
      "metadata": {
        "colab": {
          "base_uri": "https://localhost:8080/",
          "height": 424
        },
        "id": "X-Ba_-TN2i-T",
        "outputId": "47e3faeb-db2e-4ad6-f458-aa5661c906ff"
      },
      "execution_count": null,
      "outputs": [
        {
          "output_type": "execute_result",
          "data": {
            "text/plain": [
              "       Unnamed: 0  viewCount  likeCount  favoriteCount  commentCount    0\n",
              "0       -1.731961  -0.217527  -0.240832            0.0     -0.206379  6.0\n",
              "1       -1.731782  -0.217583  -0.241101            0.0     -0.208541  0.0\n",
              "2       -1.731603  -0.217608  -0.241281            0.0     -0.208621  5.0\n",
              "3       -1.731424  -0.217587  -0.241178            0.0     -0.208221  2.0\n",
              "4       -1.731245  -0.215801  -0.224242            0.0     -0.176347  4.0\n",
              "...           ...        ...        ...            ...           ...  ...\n",
              "19340    1.731245  -0.206051  -0.238887            0.0     -0.209662  NaN\n",
              "19341    1.731424  -0.216076  -0.238497            0.0     -0.210784  NaN\n",
              "19342    1.731603  -0.211005  -0.236333            0.0     -0.208701  NaN\n",
              "19343    1.731782   0.031458  -0.054987            0.0     -0.012255  NaN\n",
              "19344    1.731961  -0.187354  -0.160455            0.0     -0.205258  NaN\n",
              "\n",
              "[19345 rows x 6 columns]"
            ],
            "text/html": [
              "\n",
              "  <div id=\"df-03ec7566-9da9-49ad-a0b7-dc53d552712f\" class=\"colab-df-container\">\n",
              "    <div>\n",
              "<style scoped>\n",
              "    .dataframe tbody tr th:only-of-type {\n",
              "        vertical-align: middle;\n",
              "    }\n",
              "\n",
              "    .dataframe tbody tr th {\n",
              "        vertical-align: top;\n",
              "    }\n",
              "\n",
              "    .dataframe thead th {\n",
              "        text-align: right;\n",
              "    }\n",
              "</style>\n",
              "<table border=\"1\" class=\"dataframe\">\n",
              "  <thead>\n",
              "    <tr style=\"text-align: right;\">\n",
              "      <th></th>\n",
              "      <th>Unnamed: 0</th>\n",
              "      <th>viewCount</th>\n",
              "      <th>likeCount</th>\n",
              "      <th>favoriteCount</th>\n",
              "      <th>commentCount</th>\n",
              "      <th>0</th>\n",
              "    </tr>\n",
              "  </thead>\n",
              "  <tbody>\n",
              "    <tr>\n",
              "      <th>0</th>\n",
              "      <td>-1.731961</td>\n",
              "      <td>-0.217527</td>\n",
              "      <td>-0.240832</td>\n",
              "      <td>0.0</td>\n",
              "      <td>-0.206379</td>\n",
              "      <td>6.0</td>\n",
              "    </tr>\n",
              "    <tr>\n",
              "      <th>1</th>\n",
              "      <td>-1.731782</td>\n",
              "      <td>-0.217583</td>\n",
              "      <td>-0.241101</td>\n",
              "      <td>0.0</td>\n",
              "      <td>-0.208541</td>\n",
              "      <td>0.0</td>\n",
              "    </tr>\n",
              "    <tr>\n",
              "      <th>2</th>\n",
              "      <td>-1.731603</td>\n",
              "      <td>-0.217608</td>\n",
              "      <td>-0.241281</td>\n",
              "      <td>0.0</td>\n",
              "      <td>-0.208621</td>\n",
              "      <td>5.0</td>\n",
              "    </tr>\n",
              "    <tr>\n",
              "      <th>3</th>\n",
              "      <td>-1.731424</td>\n",
              "      <td>-0.217587</td>\n",
              "      <td>-0.241178</td>\n",
              "      <td>0.0</td>\n",
              "      <td>-0.208221</td>\n",
              "      <td>2.0</td>\n",
              "    </tr>\n",
              "    <tr>\n",
              "      <th>4</th>\n",
              "      <td>-1.731245</td>\n",
              "      <td>-0.215801</td>\n",
              "      <td>-0.224242</td>\n",
              "      <td>0.0</td>\n",
              "      <td>-0.176347</td>\n",
              "      <td>4.0</td>\n",
              "    </tr>\n",
              "    <tr>\n",
              "      <th>...</th>\n",
              "      <td>...</td>\n",
              "      <td>...</td>\n",
              "      <td>...</td>\n",
              "      <td>...</td>\n",
              "      <td>...</td>\n",
              "      <td>...</td>\n",
              "    </tr>\n",
              "    <tr>\n",
              "      <th>19340</th>\n",
              "      <td>1.731245</td>\n",
              "      <td>-0.206051</td>\n",
              "      <td>-0.238887</td>\n",
              "      <td>0.0</td>\n",
              "      <td>-0.209662</td>\n",
              "      <td>NaN</td>\n",
              "    </tr>\n",
              "    <tr>\n",
              "      <th>19341</th>\n",
              "      <td>1.731424</td>\n",
              "      <td>-0.216076</td>\n",
              "      <td>-0.238497</td>\n",
              "      <td>0.0</td>\n",
              "      <td>-0.210784</td>\n",
              "      <td>NaN</td>\n",
              "    </tr>\n",
              "    <tr>\n",
              "      <th>19342</th>\n",
              "      <td>1.731603</td>\n",
              "      <td>-0.211005</td>\n",
              "      <td>-0.236333</td>\n",
              "      <td>0.0</td>\n",
              "      <td>-0.208701</td>\n",
              "      <td>NaN</td>\n",
              "    </tr>\n",
              "    <tr>\n",
              "      <th>19343</th>\n",
              "      <td>1.731782</td>\n",
              "      <td>0.031458</td>\n",
              "      <td>-0.054987</td>\n",
              "      <td>0.0</td>\n",
              "      <td>-0.012255</td>\n",
              "      <td>NaN</td>\n",
              "    </tr>\n",
              "    <tr>\n",
              "      <th>19344</th>\n",
              "      <td>1.731961</td>\n",
              "      <td>-0.187354</td>\n",
              "      <td>-0.160455</td>\n",
              "      <td>0.0</td>\n",
              "      <td>-0.205258</td>\n",
              "      <td>NaN</td>\n",
              "    </tr>\n",
              "  </tbody>\n",
              "</table>\n",
              "<p>19345 rows × 6 columns</p>\n",
              "</div>\n",
              "    <div class=\"colab-df-buttons\">\n",
              "\n",
              "  <div class=\"colab-df-container\">\n",
              "    <button class=\"colab-df-convert\" onclick=\"convertToInteractive('df-03ec7566-9da9-49ad-a0b7-dc53d552712f')\"\n",
              "            title=\"Convert this dataframe to an interactive table.\"\n",
              "            style=\"display:none;\">\n",
              "\n",
              "  <svg xmlns=\"http://www.w3.org/2000/svg\" height=\"24px\" viewBox=\"0 -960 960 960\">\n",
              "    <path d=\"M120-120v-720h720v720H120Zm60-500h600v-160H180v160Zm220 220h160v-160H400v160Zm0 220h160v-160H400v160ZM180-400h160v-160H180v160Zm440 0h160v-160H620v160ZM180-180h160v-160H180v160Zm440 0h160v-160H620v160Z\"/>\n",
              "  </svg>\n",
              "    </button>\n",
              "\n",
              "  <style>\n",
              "    .colab-df-container {\n",
              "      display:flex;\n",
              "      gap: 12px;\n",
              "    }\n",
              "\n",
              "    .colab-df-convert {\n",
              "      background-color: #E8F0FE;\n",
              "      border: none;\n",
              "      border-radius: 50%;\n",
              "      cursor: pointer;\n",
              "      display: none;\n",
              "      fill: #1967D2;\n",
              "      height: 32px;\n",
              "      padding: 0 0 0 0;\n",
              "      width: 32px;\n",
              "    }\n",
              "\n",
              "    .colab-df-convert:hover {\n",
              "      background-color: #E2EBFA;\n",
              "      box-shadow: 0px 1px 2px rgba(60, 64, 67, 0.3), 0px 1px 3px 1px rgba(60, 64, 67, 0.15);\n",
              "      fill: #174EA6;\n",
              "    }\n",
              "\n",
              "    .colab-df-buttons div {\n",
              "      margin-bottom: 4px;\n",
              "    }\n",
              "\n",
              "    [theme=dark] .colab-df-convert {\n",
              "      background-color: #3B4455;\n",
              "      fill: #D2E3FC;\n",
              "    }\n",
              "\n",
              "    [theme=dark] .colab-df-convert:hover {\n",
              "      background-color: #434B5C;\n",
              "      box-shadow: 0px 1px 3px 1px rgba(0, 0, 0, 0.15);\n",
              "      filter: drop-shadow(0px 1px 2px rgba(0, 0, 0, 0.3));\n",
              "      fill: #FFFFFF;\n",
              "    }\n",
              "  </style>\n",
              "\n",
              "    <script>\n",
              "      const buttonEl =\n",
              "        document.querySelector('#df-03ec7566-9da9-49ad-a0b7-dc53d552712f button.colab-df-convert');\n",
              "      buttonEl.style.display =\n",
              "        google.colab.kernel.accessAllowed ? 'block' : 'none';\n",
              "\n",
              "      async function convertToInteractive(key) {\n",
              "        const element = document.querySelector('#df-03ec7566-9da9-49ad-a0b7-dc53d552712f');\n",
              "        const dataTable =\n",
              "          await google.colab.kernel.invokeFunction('convertToInteractive',\n",
              "                                                    [key], {});\n",
              "        if (!dataTable) return;\n",
              "\n",
              "        const docLinkHtml = 'Like what you see? Visit the ' +\n",
              "          '<a target=\"_blank\" href=https://colab.research.google.com/notebooks/data_table.ipynb>data table notebook</a>'\n",
              "          + ' to learn more about interactive tables.';\n",
              "        element.innerHTML = '';\n",
              "        dataTable['output_type'] = 'display_data';\n",
              "        await google.colab.output.renderOutput(dataTable, element);\n",
              "        const docLink = document.createElement('div');\n",
              "        docLink.innerHTML = docLinkHtml;\n",
              "        element.appendChild(docLink);\n",
              "      }\n",
              "    </script>\n",
              "  </div>\n",
              "\n",
              "\n",
              "<div id=\"df-1a8b5a78-b1d1-48be-9979-e1e7271c014d\">\n",
              "  <button class=\"colab-df-quickchart\" onclick=\"quickchart('df-1a8b5a78-b1d1-48be-9979-e1e7271c014d')\"\n",
              "            title=\"Suggest charts\"\n",
              "            style=\"display:none;\">\n",
              "\n",
              "<svg xmlns=\"http://www.w3.org/2000/svg\" height=\"24px\"viewBox=\"0 0 24 24\"\n",
              "     width=\"24px\">\n",
              "    <g>\n",
              "        <path d=\"M19 3H5c-1.1 0-2 .9-2 2v14c0 1.1.9 2 2 2h14c1.1 0 2-.9 2-2V5c0-1.1-.9-2-2-2zM9 17H7v-7h2v7zm4 0h-2V7h2v10zm4 0h-2v-4h2v4z\"/>\n",
              "    </g>\n",
              "</svg>\n",
              "  </button>\n",
              "\n",
              "<style>\n",
              "  .colab-df-quickchart {\n",
              "      --bg-color: #E8F0FE;\n",
              "      --fill-color: #1967D2;\n",
              "      --hover-bg-color: #E2EBFA;\n",
              "      --hover-fill-color: #174EA6;\n",
              "      --disabled-fill-color: #AAA;\n",
              "      --disabled-bg-color: #DDD;\n",
              "  }\n",
              "\n",
              "  [theme=dark] .colab-df-quickchart {\n",
              "      --bg-color: #3B4455;\n",
              "      --fill-color: #D2E3FC;\n",
              "      --hover-bg-color: #434B5C;\n",
              "      --hover-fill-color: #FFFFFF;\n",
              "      --disabled-bg-color: #3B4455;\n",
              "      --disabled-fill-color: #666;\n",
              "  }\n",
              "\n",
              "  .colab-df-quickchart {\n",
              "    background-color: var(--bg-color);\n",
              "    border: none;\n",
              "    border-radius: 50%;\n",
              "    cursor: pointer;\n",
              "    display: none;\n",
              "    fill: var(--fill-color);\n",
              "    height: 32px;\n",
              "    padding: 0;\n",
              "    width: 32px;\n",
              "  }\n",
              "\n",
              "  .colab-df-quickchart:hover {\n",
              "    background-color: var(--hover-bg-color);\n",
              "    box-shadow: 0 1px 2px rgba(60, 64, 67, 0.3), 0 1px 3px 1px rgba(60, 64, 67, 0.15);\n",
              "    fill: var(--button-hover-fill-color);\n",
              "  }\n",
              "\n",
              "  .colab-df-quickchart-complete:disabled,\n",
              "  .colab-df-quickchart-complete:disabled:hover {\n",
              "    background-color: var(--disabled-bg-color);\n",
              "    fill: var(--disabled-fill-color);\n",
              "    box-shadow: none;\n",
              "  }\n",
              "\n",
              "  .colab-df-spinner {\n",
              "    border: 2px solid var(--fill-color);\n",
              "    border-color: transparent;\n",
              "    border-bottom-color: var(--fill-color);\n",
              "    animation:\n",
              "      spin 1s steps(1) infinite;\n",
              "  }\n",
              "\n",
              "  @keyframes spin {\n",
              "    0% {\n",
              "      border-color: transparent;\n",
              "      border-bottom-color: var(--fill-color);\n",
              "      border-left-color: var(--fill-color);\n",
              "    }\n",
              "    20% {\n",
              "      border-color: transparent;\n",
              "      border-left-color: var(--fill-color);\n",
              "      border-top-color: var(--fill-color);\n",
              "    }\n",
              "    30% {\n",
              "      border-color: transparent;\n",
              "      border-left-color: var(--fill-color);\n",
              "      border-top-color: var(--fill-color);\n",
              "      border-right-color: var(--fill-color);\n",
              "    }\n",
              "    40% {\n",
              "      border-color: transparent;\n",
              "      border-right-color: var(--fill-color);\n",
              "      border-top-color: var(--fill-color);\n",
              "    }\n",
              "    60% {\n",
              "      border-color: transparent;\n",
              "      border-right-color: var(--fill-color);\n",
              "    }\n",
              "    80% {\n",
              "      border-color: transparent;\n",
              "      border-right-color: var(--fill-color);\n",
              "      border-bottom-color: var(--fill-color);\n",
              "    }\n",
              "    90% {\n",
              "      border-color: transparent;\n",
              "      border-bottom-color: var(--fill-color);\n",
              "    }\n",
              "  }\n",
              "</style>\n",
              "\n",
              "  <script>\n",
              "    async function quickchart(key) {\n",
              "      const quickchartButtonEl =\n",
              "        document.querySelector('#' + key + ' button');\n",
              "      quickchartButtonEl.disabled = true;  // To prevent multiple clicks.\n",
              "      quickchartButtonEl.classList.add('colab-df-spinner');\n",
              "      try {\n",
              "        const charts = await google.colab.kernel.invokeFunction(\n",
              "            'suggestCharts', [key], {});\n",
              "      } catch (error) {\n",
              "        console.error('Error during call to suggestCharts:', error);\n",
              "      }\n",
              "      quickchartButtonEl.classList.remove('colab-df-spinner');\n",
              "      quickchartButtonEl.classList.add('colab-df-quickchart-complete');\n",
              "    }\n",
              "    (() => {\n",
              "      let quickchartButtonEl =\n",
              "        document.querySelector('#df-1a8b5a78-b1d1-48be-9979-e1e7271c014d button');\n",
              "      quickchartButtonEl.style.display =\n",
              "        google.colab.kernel.accessAllowed ? 'block' : 'none';\n",
              "    })();\n",
              "  </script>\n",
              "</div>\n",
              "\n",
              "  <div id=\"id_781d55a5-16c8-4bc6-9e48-bbf5c51008b8\">\n",
              "    <style>\n",
              "      .colab-df-generate {\n",
              "        background-color: #E8F0FE;\n",
              "        border: none;\n",
              "        border-radius: 50%;\n",
              "        cursor: pointer;\n",
              "        display: none;\n",
              "        fill: #1967D2;\n",
              "        height: 32px;\n",
              "        padding: 0 0 0 0;\n",
              "        width: 32px;\n",
              "      }\n",
              "\n",
              "      .colab-df-generate:hover {\n",
              "        background-color: #E2EBFA;\n",
              "        box-shadow: 0px 1px 2px rgba(60, 64, 67, 0.3), 0px 1px 3px 1px rgba(60, 64, 67, 0.15);\n",
              "        fill: #174EA6;\n",
              "      }\n",
              "\n",
              "      [theme=dark] .colab-df-generate {\n",
              "        background-color: #3B4455;\n",
              "        fill: #D2E3FC;\n",
              "      }\n",
              "\n",
              "      [theme=dark] .colab-df-generate:hover {\n",
              "        background-color: #434B5C;\n",
              "        box-shadow: 0px 1px 3px 1px rgba(0, 0, 0, 0.15);\n",
              "        filter: drop-shadow(0px 1px 2px rgba(0, 0, 0, 0.3));\n",
              "        fill: #FFFFFF;\n",
              "      }\n",
              "    </style>\n",
              "    <button class=\"colab-df-generate\" onclick=\"generateWithVariable('df_scaled')\"\n",
              "            title=\"Generate code using this dataframe.\"\n",
              "            style=\"display:none;\">\n",
              "\n",
              "  <svg xmlns=\"http://www.w3.org/2000/svg\" height=\"24px\"viewBox=\"0 0 24 24\"\n",
              "       width=\"24px\">\n",
              "    <path d=\"M7,19H8.4L18.45,9,17,7.55,7,17.6ZM5,21V16.75L18.45,3.32a2,2,0,0,1,2.83,0l1.4,1.43a1.91,1.91,0,0,1,.58,1.4,1.91,1.91,0,0,1-.58,1.4L9.25,21ZM18.45,9,17,7.55Zm-12,3A5.31,5.31,0,0,0,4.9,8.1,5.31,5.31,0,0,0,1,6.5,5.31,5.31,0,0,0,4.9,4.9,5.31,5.31,0,0,0,6.5,1,5.31,5.31,0,0,0,8.1,4.9,5.31,5.31,0,0,0,12,6.5,5.46,5.46,0,0,0,6.5,12Z\"/>\n",
              "  </svg>\n",
              "    </button>\n",
              "    <script>\n",
              "      (() => {\n",
              "      const buttonEl =\n",
              "        document.querySelector('#id_781d55a5-16c8-4bc6-9e48-bbf5c51008b8 button.colab-df-generate');\n",
              "      buttonEl.style.display =\n",
              "        google.colab.kernel.accessAllowed ? 'block' : 'none';\n",
              "\n",
              "      buttonEl.onclick = () => {\n",
              "        google.colab.notebook.generateWithVariable('df_scaled');\n",
              "      }\n",
              "      })();\n",
              "    </script>\n",
              "  </div>\n",
              "\n",
              "    </div>\n",
              "  </div>\n"
            ],
            "application/vnd.google.colaboratory.intrinsic+json": {
              "type": "dataframe",
              "variable_name": "df_scaled",
              "summary": "{\n  \"name\": \"df_scaled\",\n  \"rows\": 19345,\n  \"fields\": [\n    {\n      \"column\": \"Unnamed: 0\",\n      \"properties\": {\n        \"dtype\": \"number\",\n        \"std\": 1.0000258474740598,\n        \"min\": -1.731961275077666,\n        \"max\": 1.731961275077666,\n        \"num_unique_values\": 19345,\n        \"samples\": [\n          1.6431427481506062,\n          0.9415480132711298,\n          0.3672717716278219\n        ],\n        \"semantic_type\": \"\",\n        \"description\": \"\"\n      }\n    },\n    {\n      \"column\": \"viewCount\",\n      \"properties\": {\n        \"dtype\": \"number\",\n        \"std\": 1.00002584747406,\n        \"min\": -0.2176595854198413,\n        \"max\": 27.799965965346846,\n        \"num_unique_values\": 19131,\n        \"samples\": [\n          -0.20581057895119073,\n          -0.19130809062470877,\n          2.8717858647914896\n        ],\n        \"semantic_type\": \"\",\n        \"description\": \"\"\n      }\n    },\n    {\n      \"column\": \"likeCount\",\n      \"properties\": {\n        \"dtype\": \"number\",\n        \"std\": 1.00002584747406,\n        \"min\": -0.24149961026058372,\n        \"max\": 35.32691112830224,\n        \"num_unique_values\": 11932,\n        \"samples\": [\n          -0.18652739125126191,\n          -0.23277386121148502,\n          -0.23018106720832426\n        ],\n        \"semantic_type\": \"\",\n        \"description\": \"\"\n      }\n    },\n    {\n      \"column\": \"favoriteCount\",\n      \"properties\": {\n        \"dtype\": \"number\",\n        \"std\": 0.0,\n        \"min\": 0.0,\n        \"max\": 0.0,\n        \"num_unique_values\": 1,\n        \"samples\": [\n          0.0\n        ],\n        \"semantic_type\": \"\",\n        \"description\": \"\"\n      }\n    },\n    {\n      \"column\": \"commentCount\",\n      \"properties\": {\n        \"dtype\": \"number\",\n        \"std\": 1.0000258474740598,\n        \"min\": -0.21110391987513177,\n        \"max\": 33.45429729953382,\n        \"num_unique_values\": 4493,\n        \"samples\": [\n          -0.1974896035925281\n        ],\n        \"semantic_type\": \"\",\n        \"description\": \"\"\n      }\n    },\n    {\n      \"column\": 0,\n      \"properties\": {\n        \"dtype\": \"number\",\n        \"std\": 2.160246899469287,\n        \"min\": 0.0,\n        \"max\": 6.0,\n        \"num_unique_values\": 7,\n        \"samples\": [\n          6.0\n        ],\n        \"semantic_type\": \"\",\n        \"description\": \"\"\n      }\n    }\n  ]\n}"
            }
          },
          "metadata": {},
          "execution_count": 44
        }
      ]
    },
    {
      "cell_type": "code",
      "source": [
        "from sklearn.preprocessing import StandardScaler\n",
        "scaler = StandardScaler()\n",
        "df_numerical_scaled = pd.DataFrame(scaler.fit_transform(df_scaled),columns=numerical_columns)"
      ],
      "metadata": {
        "colab": {
          "base_uri": "https://localhost:8080/",
          "height": 321
        },
        "id": "bvLWIml11ZdU",
        "outputId": "d2f6098f-12a2-4fdd-9ca0-ba360d407c09"
      },
      "execution_count": null,
      "outputs": [
        {
          "output_type": "error",
          "ename": "ValueError",
          "evalue": "could not convert string to float: 'F44TK5EHCRo'",
          "traceback": [
            "\u001b[0;31m---------------------------------------------------------------------------\u001b[0m",
            "\u001b[0;31mValueError\u001b[0m                                Traceback (most recent call last)",
            "\u001b[0;32m<ipython-input-39-43bbd6a57127>\u001b[0m in \u001b[0;36m<cell line: 3>\u001b[0;34m()\u001b[0m\n\u001b[1;32m      1\u001b[0m \u001b[0;32mfrom\u001b[0m \u001b[0msklearn\u001b[0m\u001b[0;34m.\u001b[0m\u001b[0mpreprocessing\u001b[0m \u001b[0;32mimport\u001b[0m \u001b[0mStandardScaler\u001b[0m\u001b[0;34m\u001b[0m\u001b[0;34m\u001b[0m\u001b[0m\n\u001b[1;32m      2\u001b[0m \u001b[0mscaler\u001b[0m \u001b[0;34m=\u001b[0m \u001b[0mStandardScaler\u001b[0m\u001b[0;34m(\u001b[0m\u001b[0;34m)\u001b[0m\u001b[0;34m\u001b[0m\u001b[0;34m\u001b[0m\u001b[0m\n\u001b[0;32m----> 3\u001b[0;31m \u001b[0mdf_numerical_scaled\u001b[0m \u001b[0;34m=\u001b[0m \u001b[0mpd\u001b[0m\u001b[0;34m.\u001b[0m\u001b[0mDataFrame\u001b[0m\u001b[0;34m(\u001b[0m\u001b[0mscaler\u001b[0m\u001b[0;34m.\u001b[0m\u001b[0mfit_transform\u001b[0m\u001b[0;34m(\u001b[0m\u001b[0mdf_scaled\u001b[0m\u001b[0;34m)\u001b[0m\u001b[0;34m,\u001b[0m\u001b[0mcolumns\u001b[0m\u001b[0;34m=\u001b[0m\u001b[0mnumerical_columns\u001b[0m\u001b[0;34m)\u001b[0m\u001b[0;34m\u001b[0m\u001b[0;34m\u001b[0m\u001b[0m\n\u001b[0m",
            "\u001b[0;32m/usr/local/lib/python3.10/dist-packages/sklearn/utils/_set_output.py\u001b[0m in \u001b[0;36mwrapped\u001b[0;34m(self, X, *args, **kwargs)\u001b[0m\n\u001b[1;32m    138\u001b[0m     \u001b[0;34m@\u001b[0m\u001b[0mwraps\u001b[0m\u001b[0;34m(\u001b[0m\u001b[0mf\u001b[0m\u001b[0;34m)\u001b[0m\u001b[0;34m\u001b[0m\u001b[0;34m\u001b[0m\u001b[0m\n\u001b[1;32m    139\u001b[0m     \u001b[0;32mdef\u001b[0m \u001b[0mwrapped\u001b[0m\u001b[0;34m(\u001b[0m\u001b[0mself\u001b[0m\u001b[0;34m,\u001b[0m \u001b[0mX\u001b[0m\u001b[0;34m,\u001b[0m \u001b[0;34m*\u001b[0m\u001b[0margs\u001b[0m\u001b[0;34m,\u001b[0m \u001b[0;34m**\u001b[0m\u001b[0mkwargs\u001b[0m\u001b[0;34m)\u001b[0m\u001b[0;34m:\u001b[0m\u001b[0;34m\u001b[0m\u001b[0;34m\u001b[0m\u001b[0m\n\u001b[0;32m--> 140\u001b[0;31m         \u001b[0mdata_to_wrap\u001b[0m \u001b[0;34m=\u001b[0m \u001b[0mf\u001b[0m\u001b[0;34m(\u001b[0m\u001b[0mself\u001b[0m\u001b[0;34m,\u001b[0m \u001b[0mX\u001b[0m\u001b[0;34m,\u001b[0m \u001b[0;34m*\u001b[0m\u001b[0margs\u001b[0m\u001b[0;34m,\u001b[0m \u001b[0;34m**\u001b[0m\u001b[0mkwargs\u001b[0m\u001b[0;34m)\u001b[0m\u001b[0;34m\u001b[0m\u001b[0;34m\u001b[0m\u001b[0m\n\u001b[0m\u001b[1;32m    141\u001b[0m         \u001b[0;32mif\u001b[0m \u001b[0misinstance\u001b[0m\u001b[0;34m(\u001b[0m\u001b[0mdata_to_wrap\u001b[0m\u001b[0;34m,\u001b[0m \u001b[0mtuple\u001b[0m\u001b[0;34m)\u001b[0m\u001b[0;34m:\u001b[0m\u001b[0;34m\u001b[0m\u001b[0;34m\u001b[0m\u001b[0m\n\u001b[1;32m    142\u001b[0m             \u001b[0;31m# only wrap the first output for cross decomposition\u001b[0m\u001b[0;34m\u001b[0m\u001b[0;34m\u001b[0m\u001b[0m\n",
            "\u001b[0;32m/usr/local/lib/python3.10/dist-packages/sklearn/base.py\u001b[0m in \u001b[0;36mfit_transform\u001b[0;34m(self, X, y, **fit_params)\u001b[0m\n\u001b[1;32m    876\u001b[0m         \u001b[0;32mif\u001b[0m \u001b[0my\u001b[0m \u001b[0;32mis\u001b[0m \u001b[0;32mNone\u001b[0m\u001b[0;34m:\u001b[0m\u001b[0;34m\u001b[0m\u001b[0;34m\u001b[0m\u001b[0m\n\u001b[1;32m    877\u001b[0m             \u001b[0;31m# fit method of arity 1 (unsupervised transformation)\u001b[0m\u001b[0;34m\u001b[0m\u001b[0;34m\u001b[0m\u001b[0m\n\u001b[0;32m--> 878\u001b[0;31m             \u001b[0;32mreturn\u001b[0m \u001b[0mself\u001b[0m\u001b[0;34m.\u001b[0m\u001b[0mfit\u001b[0m\u001b[0;34m(\u001b[0m\u001b[0mX\u001b[0m\u001b[0;34m,\u001b[0m \u001b[0;34m**\u001b[0m\u001b[0mfit_params\u001b[0m\u001b[0;34m)\u001b[0m\u001b[0;34m.\u001b[0m\u001b[0mtransform\u001b[0m\u001b[0;34m(\u001b[0m\u001b[0mX\u001b[0m\u001b[0;34m)\u001b[0m\u001b[0;34m\u001b[0m\u001b[0;34m\u001b[0m\u001b[0m\n\u001b[0m\u001b[1;32m    879\u001b[0m         \u001b[0;32melse\u001b[0m\u001b[0;34m:\u001b[0m\u001b[0;34m\u001b[0m\u001b[0;34m\u001b[0m\u001b[0m\n\u001b[1;32m    880\u001b[0m             \u001b[0;31m# fit method of arity 2 (supervised transformation)\u001b[0m\u001b[0;34m\u001b[0m\u001b[0;34m\u001b[0m\u001b[0m\n",
            "\u001b[0;32m/usr/local/lib/python3.10/dist-packages/sklearn/preprocessing/_data.py\u001b[0m in \u001b[0;36mfit\u001b[0;34m(self, X, y, sample_weight)\u001b[0m\n\u001b[1;32m    822\u001b[0m         \u001b[0;31m# Reset internal state before fitting\u001b[0m\u001b[0;34m\u001b[0m\u001b[0;34m\u001b[0m\u001b[0m\n\u001b[1;32m    823\u001b[0m         \u001b[0mself\u001b[0m\u001b[0;34m.\u001b[0m\u001b[0m_reset\u001b[0m\u001b[0;34m(\u001b[0m\u001b[0;34m)\u001b[0m\u001b[0;34m\u001b[0m\u001b[0;34m\u001b[0m\u001b[0m\n\u001b[0;32m--> 824\u001b[0;31m         \u001b[0;32mreturn\u001b[0m \u001b[0mself\u001b[0m\u001b[0;34m.\u001b[0m\u001b[0mpartial_fit\u001b[0m\u001b[0;34m(\u001b[0m\u001b[0mX\u001b[0m\u001b[0;34m,\u001b[0m \u001b[0my\u001b[0m\u001b[0;34m,\u001b[0m \u001b[0msample_weight\u001b[0m\u001b[0;34m)\u001b[0m\u001b[0;34m\u001b[0m\u001b[0;34m\u001b[0m\u001b[0m\n\u001b[0m\u001b[1;32m    825\u001b[0m \u001b[0;34m\u001b[0m\u001b[0m\n\u001b[1;32m    826\u001b[0m     \u001b[0;32mdef\u001b[0m \u001b[0mpartial_fit\u001b[0m\u001b[0;34m(\u001b[0m\u001b[0mself\u001b[0m\u001b[0;34m,\u001b[0m \u001b[0mX\u001b[0m\u001b[0;34m,\u001b[0m \u001b[0my\u001b[0m\u001b[0;34m=\u001b[0m\u001b[0;32mNone\u001b[0m\u001b[0;34m,\u001b[0m \u001b[0msample_weight\u001b[0m\u001b[0;34m=\u001b[0m\u001b[0;32mNone\u001b[0m\u001b[0;34m)\u001b[0m\u001b[0;34m:\u001b[0m\u001b[0;34m\u001b[0m\u001b[0;34m\u001b[0m\u001b[0m\n",
            "\u001b[0;32m/usr/local/lib/python3.10/dist-packages/sklearn/preprocessing/_data.py\u001b[0m in \u001b[0;36mpartial_fit\u001b[0;34m(self, X, y, sample_weight)\u001b[0m\n\u001b[1;32m    859\u001b[0m \u001b[0;34m\u001b[0m\u001b[0m\n\u001b[1;32m    860\u001b[0m         \u001b[0mfirst_call\u001b[0m \u001b[0;34m=\u001b[0m \u001b[0;32mnot\u001b[0m \u001b[0mhasattr\u001b[0m\u001b[0;34m(\u001b[0m\u001b[0mself\u001b[0m\u001b[0;34m,\u001b[0m \u001b[0;34m\"n_samples_seen_\"\u001b[0m\u001b[0;34m)\u001b[0m\u001b[0;34m\u001b[0m\u001b[0;34m\u001b[0m\u001b[0m\n\u001b[0;32m--> 861\u001b[0;31m         X = self._validate_data(\n\u001b[0m\u001b[1;32m    862\u001b[0m             \u001b[0mX\u001b[0m\u001b[0;34m,\u001b[0m\u001b[0;34m\u001b[0m\u001b[0;34m\u001b[0m\u001b[0m\n\u001b[1;32m    863\u001b[0m             \u001b[0maccept_sparse\u001b[0m\u001b[0;34m=\u001b[0m\u001b[0;34m(\u001b[0m\u001b[0;34m\"csr\"\u001b[0m\u001b[0;34m,\u001b[0m \u001b[0;34m\"csc\"\u001b[0m\u001b[0;34m)\u001b[0m\u001b[0;34m,\u001b[0m\u001b[0;34m\u001b[0m\u001b[0;34m\u001b[0m\u001b[0m\n",
            "\u001b[0;32m/usr/local/lib/python3.10/dist-packages/sklearn/base.py\u001b[0m in \u001b[0;36m_validate_data\u001b[0;34m(self, X, y, reset, validate_separately, **check_params)\u001b[0m\n\u001b[1;32m    563\u001b[0m             \u001b[0;32mraise\u001b[0m \u001b[0mValueError\u001b[0m\u001b[0;34m(\u001b[0m\u001b[0;34m\"Validation should be done on X, y or both.\"\u001b[0m\u001b[0;34m)\u001b[0m\u001b[0;34m\u001b[0m\u001b[0;34m\u001b[0m\u001b[0m\n\u001b[1;32m    564\u001b[0m         \u001b[0;32melif\u001b[0m \u001b[0;32mnot\u001b[0m \u001b[0mno_val_X\u001b[0m \u001b[0;32mand\u001b[0m \u001b[0mno_val_y\u001b[0m\u001b[0;34m:\u001b[0m\u001b[0;34m\u001b[0m\u001b[0;34m\u001b[0m\u001b[0m\n\u001b[0;32m--> 565\u001b[0;31m             \u001b[0mX\u001b[0m \u001b[0;34m=\u001b[0m \u001b[0mcheck_array\u001b[0m\u001b[0;34m(\u001b[0m\u001b[0mX\u001b[0m\u001b[0;34m,\u001b[0m \u001b[0minput_name\u001b[0m\u001b[0;34m=\u001b[0m\u001b[0;34m\"X\"\u001b[0m\u001b[0;34m,\u001b[0m \u001b[0;34m**\u001b[0m\u001b[0mcheck_params\u001b[0m\u001b[0;34m)\u001b[0m\u001b[0;34m\u001b[0m\u001b[0;34m\u001b[0m\u001b[0m\n\u001b[0m\u001b[1;32m    566\u001b[0m             \u001b[0mout\u001b[0m \u001b[0;34m=\u001b[0m \u001b[0mX\u001b[0m\u001b[0;34m\u001b[0m\u001b[0;34m\u001b[0m\u001b[0m\n\u001b[1;32m    567\u001b[0m         \u001b[0;32melif\u001b[0m \u001b[0mno_val_X\u001b[0m \u001b[0;32mand\u001b[0m \u001b[0;32mnot\u001b[0m \u001b[0mno_val_y\u001b[0m\u001b[0;34m:\u001b[0m\u001b[0;34m\u001b[0m\u001b[0;34m\u001b[0m\u001b[0m\n",
            "\u001b[0;32m/usr/local/lib/python3.10/dist-packages/sklearn/utils/validation.py\u001b[0m in \u001b[0;36mcheck_array\u001b[0;34m(array, accept_sparse, accept_large_sparse, dtype, order, copy, force_all_finite, ensure_2d, allow_nd, ensure_min_samples, ensure_min_features, estimator, input_name)\u001b[0m\n\u001b[1;32m    877\u001b[0m                     \u001b[0marray\u001b[0m \u001b[0;34m=\u001b[0m \u001b[0mxp\u001b[0m\u001b[0;34m.\u001b[0m\u001b[0mastype\u001b[0m\u001b[0;34m(\u001b[0m\u001b[0marray\u001b[0m\u001b[0;34m,\u001b[0m \u001b[0mdtype\u001b[0m\u001b[0;34m,\u001b[0m \u001b[0mcopy\u001b[0m\u001b[0;34m=\u001b[0m\u001b[0;32mFalse\u001b[0m\u001b[0;34m)\u001b[0m\u001b[0;34m\u001b[0m\u001b[0;34m\u001b[0m\u001b[0m\n\u001b[1;32m    878\u001b[0m                 \u001b[0;32melse\u001b[0m\u001b[0;34m:\u001b[0m\u001b[0;34m\u001b[0m\u001b[0;34m\u001b[0m\u001b[0m\n\u001b[0;32m--> 879\u001b[0;31m                     \u001b[0marray\u001b[0m \u001b[0;34m=\u001b[0m \u001b[0m_asarray_with_order\u001b[0m\u001b[0;34m(\u001b[0m\u001b[0marray\u001b[0m\u001b[0;34m,\u001b[0m \u001b[0morder\u001b[0m\u001b[0;34m=\u001b[0m\u001b[0morder\u001b[0m\u001b[0;34m,\u001b[0m \u001b[0mdtype\u001b[0m\u001b[0;34m=\u001b[0m\u001b[0mdtype\u001b[0m\u001b[0;34m,\u001b[0m \u001b[0mxp\u001b[0m\u001b[0;34m=\u001b[0m\u001b[0mxp\u001b[0m\u001b[0;34m)\u001b[0m\u001b[0;34m\u001b[0m\u001b[0;34m\u001b[0m\u001b[0m\n\u001b[0m\u001b[1;32m    880\u001b[0m             \u001b[0;32mexcept\u001b[0m \u001b[0mComplexWarning\u001b[0m \u001b[0;32mas\u001b[0m \u001b[0mcomplex_warning\u001b[0m\u001b[0;34m:\u001b[0m\u001b[0;34m\u001b[0m\u001b[0;34m\u001b[0m\u001b[0m\n\u001b[1;32m    881\u001b[0m                 raise ValueError(\n",
            "\u001b[0;32m/usr/local/lib/python3.10/dist-packages/sklearn/utils/_array_api.py\u001b[0m in \u001b[0;36m_asarray_with_order\u001b[0;34m(array, dtype, order, copy, xp)\u001b[0m\n\u001b[1;32m    183\u001b[0m     \u001b[0;32mif\u001b[0m \u001b[0mxp\u001b[0m\u001b[0;34m.\u001b[0m\u001b[0m__name__\u001b[0m \u001b[0;32min\u001b[0m \u001b[0;34m{\u001b[0m\u001b[0;34m\"numpy\"\u001b[0m\u001b[0;34m,\u001b[0m \u001b[0;34m\"numpy.array_api\"\u001b[0m\u001b[0;34m}\u001b[0m\u001b[0;34m:\u001b[0m\u001b[0;34m\u001b[0m\u001b[0;34m\u001b[0m\u001b[0m\n\u001b[1;32m    184\u001b[0m         \u001b[0;31m# Use NumPy API to support order\u001b[0m\u001b[0;34m\u001b[0m\u001b[0;34m\u001b[0m\u001b[0m\n\u001b[0;32m--> 185\u001b[0;31m         \u001b[0marray\u001b[0m \u001b[0;34m=\u001b[0m \u001b[0mnumpy\u001b[0m\u001b[0;34m.\u001b[0m\u001b[0masarray\u001b[0m\u001b[0;34m(\u001b[0m\u001b[0marray\u001b[0m\u001b[0;34m,\u001b[0m \u001b[0morder\u001b[0m\u001b[0;34m=\u001b[0m\u001b[0morder\u001b[0m\u001b[0;34m,\u001b[0m \u001b[0mdtype\u001b[0m\u001b[0;34m=\u001b[0m\u001b[0mdtype\u001b[0m\u001b[0;34m)\u001b[0m\u001b[0;34m\u001b[0m\u001b[0;34m\u001b[0m\u001b[0m\n\u001b[0m\u001b[1;32m    186\u001b[0m         \u001b[0;32mreturn\u001b[0m \u001b[0mxp\u001b[0m\u001b[0;34m.\u001b[0m\u001b[0masarray\u001b[0m\u001b[0;34m(\u001b[0m\u001b[0marray\u001b[0m\u001b[0;34m,\u001b[0m \u001b[0mcopy\u001b[0m\u001b[0;34m=\u001b[0m\u001b[0mcopy\u001b[0m\u001b[0;34m)\u001b[0m\u001b[0;34m\u001b[0m\u001b[0;34m\u001b[0m\u001b[0m\n\u001b[1;32m    187\u001b[0m     \u001b[0;32melse\u001b[0m\u001b[0;34m:\u001b[0m\u001b[0;34m\u001b[0m\u001b[0;34m\u001b[0m\u001b[0m\n",
            "\u001b[0;32m/usr/local/lib/python3.10/dist-packages/pandas/core/generic.py\u001b[0m in \u001b[0;36m__array__\u001b[0;34m(self, dtype)\u001b[0m\n\u001b[1;32m   1996\u001b[0m     \u001b[0;32mdef\u001b[0m \u001b[0m__array__\u001b[0m\u001b[0;34m(\u001b[0m\u001b[0mself\u001b[0m\u001b[0;34m,\u001b[0m \u001b[0mdtype\u001b[0m\u001b[0;34m:\u001b[0m \u001b[0mnpt\u001b[0m\u001b[0;34m.\u001b[0m\u001b[0mDTypeLike\u001b[0m \u001b[0;34m|\u001b[0m \u001b[0;32mNone\u001b[0m \u001b[0;34m=\u001b[0m \u001b[0;32mNone\u001b[0m\u001b[0;34m)\u001b[0m \u001b[0;34m->\u001b[0m \u001b[0mnp\u001b[0m\u001b[0;34m.\u001b[0m\u001b[0mndarray\u001b[0m\u001b[0;34m:\u001b[0m\u001b[0;34m\u001b[0m\u001b[0;34m\u001b[0m\u001b[0m\n\u001b[1;32m   1997\u001b[0m         \u001b[0mvalues\u001b[0m \u001b[0;34m=\u001b[0m \u001b[0mself\u001b[0m\u001b[0;34m.\u001b[0m\u001b[0m_values\u001b[0m\u001b[0;34m\u001b[0m\u001b[0;34m\u001b[0m\u001b[0m\n\u001b[0;32m-> 1998\u001b[0;31m         \u001b[0marr\u001b[0m \u001b[0;34m=\u001b[0m \u001b[0mnp\u001b[0m\u001b[0;34m.\u001b[0m\u001b[0masarray\u001b[0m\u001b[0;34m(\u001b[0m\u001b[0mvalues\u001b[0m\u001b[0;34m,\u001b[0m \u001b[0mdtype\u001b[0m\u001b[0;34m=\u001b[0m\u001b[0mdtype\u001b[0m\u001b[0;34m)\u001b[0m\u001b[0;34m\u001b[0m\u001b[0;34m\u001b[0m\u001b[0m\n\u001b[0m\u001b[1;32m   1999\u001b[0m         if (\n\u001b[1;32m   2000\u001b[0m             \u001b[0mastype_is_view\u001b[0m\u001b[0;34m(\u001b[0m\u001b[0mvalues\u001b[0m\u001b[0;34m.\u001b[0m\u001b[0mdtype\u001b[0m\u001b[0;34m,\u001b[0m \u001b[0marr\u001b[0m\u001b[0;34m.\u001b[0m\u001b[0mdtype\u001b[0m\u001b[0;34m)\u001b[0m\u001b[0;34m\u001b[0m\u001b[0;34m\u001b[0m\u001b[0m\n",
            "\u001b[0;31mValueError\u001b[0m: could not convert string to float: 'F44TK5EHCRo'"
          ]
        }
      ]
    },
    {
      "cell_type": "code",
      "source": [
        "# Recommendations and Conclusion\n",
        "# Example: Calculate engagement metrics\n",
        "df['engagement_rate'] = df['likeCount'] / df['viewCount']\n",
        "avg_engagement_rate = df['engagement_rate'].mean()\n",
        "print(f\"Average Engagement Rate: {avg_engagement_rate}\")"
      ],
      "metadata": {
        "colab": {
          "base_uri": "https://localhost:8080/"
        },
        "id": "oVGM8L6uyWWY",
        "outputId": "2ba916eb-29a8-49af-e528-ef8ced3dd352"
      },
      "execution_count": null,
      "outputs": [
        {
          "output_type": "stream",
          "name": "stdout",
          "text": [
            "Average Engagement Rate: inf\n"
          ]
        }
      ]
    },
    {
      "cell_type": "code",
      "source": [
        "songs=df.to_csv('processed_Tseries_songs.csv', index=False)"
      ],
      "metadata": {
        "id": "vNRVHz653iGH"
      },
      "execution_count": null,
      "outputs": []
    },
    {
      "cell_type": "code",
      "source": [
        "import pandas as pd\n",
        "data=pd.read_csv(\"/content/processed_Tseries_songs.csv\")"
      ],
      "metadata": {
        "colab": {
          "base_uri": "https://localhost:8080/",
          "height": 217
        },
        "id": "5Xy6KRUQ6oEv",
        "outputId": "aa5c2881-b186-492a-b72d-62c16e5b7145"
      },
      "execution_count": null,
      "outputs": [
        {
          "output_type": "error",
          "ename": "ParserError",
          "evalue": "Error tokenizing data. C error: Buffer overflow caught - possible malformed input file.\n",
          "traceback": [
            "\u001b[0;31m---------------------------------------------------------------------------\u001b[0m",
            "\u001b[0;31mParserError\u001b[0m                               Traceback (most recent call last)",
            "\u001b[0;32m<ipython-input-52-c7d0d89cc4b4>\u001b[0m in \u001b[0;36m<cell line: 2>\u001b[0;34m()\u001b[0m\n\u001b[1;32m      1\u001b[0m \u001b[0;32mimport\u001b[0m \u001b[0mpandas\u001b[0m \u001b[0;32mas\u001b[0m \u001b[0mpd\u001b[0m\u001b[0;34m\u001b[0m\u001b[0;34m\u001b[0m\u001b[0m\n\u001b[0;32m----> 2\u001b[0;31m \u001b[0mdata\u001b[0m\u001b[0;34m=\u001b[0m\u001b[0mpd\u001b[0m\u001b[0;34m.\u001b[0m\u001b[0mread_csv\u001b[0m\u001b[0;34m(\u001b[0m\u001b[0;34m\"/content/processed_Tseries_songs.csv\"\u001b[0m\u001b[0;34m)\u001b[0m\u001b[0;34m\u001b[0m\u001b[0;34m\u001b[0m\u001b[0m\n\u001b[0m",
            "\u001b[0;32m/usr/local/lib/python3.10/dist-packages/pandas/io/parsers/readers.py\u001b[0m in \u001b[0;36mread_csv\u001b[0;34m(filepath_or_buffer, sep, delimiter, header, names, index_col, usecols, dtype, engine, converters, true_values, false_values, skipinitialspace, skiprows, skipfooter, nrows, na_values, keep_default_na, na_filter, verbose, skip_blank_lines, parse_dates, infer_datetime_format, keep_date_col, date_parser, date_format, dayfirst, cache_dates, iterator, chunksize, compression, thousands, decimal, lineterminator, quotechar, quoting, doublequote, escapechar, comment, encoding, encoding_errors, dialect, on_bad_lines, delim_whitespace, low_memory, memory_map, float_precision, storage_options, dtype_backend)\u001b[0m\n\u001b[1;32m    910\u001b[0m     \u001b[0mkwds\u001b[0m\u001b[0;34m.\u001b[0m\u001b[0mupdate\u001b[0m\u001b[0;34m(\u001b[0m\u001b[0mkwds_defaults\u001b[0m\u001b[0;34m)\u001b[0m\u001b[0;34m\u001b[0m\u001b[0;34m\u001b[0m\u001b[0m\n\u001b[1;32m    911\u001b[0m \u001b[0;34m\u001b[0m\u001b[0m\n\u001b[0;32m--> 912\u001b[0;31m     \u001b[0;32mreturn\u001b[0m \u001b[0m_read\u001b[0m\u001b[0;34m(\u001b[0m\u001b[0mfilepath_or_buffer\u001b[0m\u001b[0;34m,\u001b[0m \u001b[0mkwds\u001b[0m\u001b[0;34m)\u001b[0m\u001b[0;34m\u001b[0m\u001b[0;34m\u001b[0m\u001b[0m\n\u001b[0m\u001b[1;32m    913\u001b[0m \u001b[0;34m\u001b[0m\u001b[0m\n\u001b[1;32m    914\u001b[0m \u001b[0;34m\u001b[0m\u001b[0m\n",
            "\u001b[0;32m/usr/local/lib/python3.10/dist-packages/pandas/io/parsers/readers.py\u001b[0m in \u001b[0;36m_read\u001b[0;34m(filepath_or_buffer, kwds)\u001b[0m\n\u001b[1;32m    581\u001b[0m \u001b[0;34m\u001b[0m\u001b[0m\n\u001b[1;32m    582\u001b[0m     \u001b[0;32mwith\u001b[0m \u001b[0mparser\u001b[0m\u001b[0;34m:\u001b[0m\u001b[0;34m\u001b[0m\u001b[0;34m\u001b[0m\u001b[0m\n\u001b[0;32m--> 583\u001b[0;31m         \u001b[0;32mreturn\u001b[0m \u001b[0mparser\u001b[0m\u001b[0;34m.\u001b[0m\u001b[0mread\u001b[0m\u001b[0;34m(\u001b[0m\u001b[0mnrows\u001b[0m\u001b[0;34m)\u001b[0m\u001b[0;34m\u001b[0m\u001b[0;34m\u001b[0m\u001b[0m\n\u001b[0m\u001b[1;32m    584\u001b[0m \u001b[0;34m\u001b[0m\u001b[0m\n\u001b[1;32m    585\u001b[0m \u001b[0;34m\u001b[0m\u001b[0m\n",
            "\u001b[0;32m/usr/local/lib/python3.10/dist-packages/pandas/io/parsers/readers.py\u001b[0m in \u001b[0;36mread\u001b[0;34m(self, nrows)\u001b[0m\n\u001b[1;32m   1702\u001b[0m                     \u001b[0mcolumns\u001b[0m\u001b[0;34m,\u001b[0m\u001b[0;34m\u001b[0m\u001b[0;34m\u001b[0m\u001b[0m\n\u001b[1;32m   1703\u001b[0m                     \u001b[0mcol_dict\u001b[0m\u001b[0;34m,\u001b[0m\u001b[0;34m\u001b[0m\u001b[0;34m\u001b[0m\u001b[0m\n\u001b[0;32m-> 1704\u001b[0;31m                 \u001b[0;34m)\u001b[0m \u001b[0;34m=\u001b[0m \u001b[0mself\u001b[0m\u001b[0;34m.\u001b[0m\u001b[0m_engine\u001b[0m\u001b[0;34m.\u001b[0m\u001b[0mread\u001b[0m\u001b[0;34m(\u001b[0m  \u001b[0;31m# type: ignore[attr-defined]\u001b[0m\u001b[0;34m\u001b[0m\u001b[0;34m\u001b[0m\u001b[0m\n\u001b[0m\u001b[1;32m   1705\u001b[0m                     \u001b[0mnrows\u001b[0m\u001b[0;34m\u001b[0m\u001b[0;34m\u001b[0m\u001b[0m\n\u001b[1;32m   1706\u001b[0m                 )\n",
            "\u001b[0;32m/usr/local/lib/python3.10/dist-packages/pandas/io/parsers/c_parser_wrapper.py\u001b[0m in \u001b[0;36mread\u001b[0;34m(self, nrows)\u001b[0m\n\u001b[1;32m    232\u001b[0m         \u001b[0;32mtry\u001b[0m\u001b[0;34m:\u001b[0m\u001b[0;34m\u001b[0m\u001b[0;34m\u001b[0m\u001b[0m\n\u001b[1;32m    233\u001b[0m             \u001b[0;32mif\u001b[0m \u001b[0mself\u001b[0m\u001b[0;34m.\u001b[0m\u001b[0mlow_memory\u001b[0m\u001b[0;34m:\u001b[0m\u001b[0;34m\u001b[0m\u001b[0;34m\u001b[0m\u001b[0m\n\u001b[0;32m--> 234\u001b[0;31m                 \u001b[0mchunks\u001b[0m \u001b[0;34m=\u001b[0m \u001b[0mself\u001b[0m\u001b[0;34m.\u001b[0m\u001b[0m_reader\u001b[0m\u001b[0;34m.\u001b[0m\u001b[0mread_low_memory\u001b[0m\u001b[0;34m(\u001b[0m\u001b[0mnrows\u001b[0m\u001b[0;34m)\u001b[0m\u001b[0;34m\u001b[0m\u001b[0;34m\u001b[0m\u001b[0m\n\u001b[0m\u001b[1;32m    235\u001b[0m                 \u001b[0;31m# destructive to chunks\u001b[0m\u001b[0;34m\u001b[0m\u001b[0;34m\u001b[0m\u001b[0m\n\u001b[1;32m    236\u001b[0m                 \u001b[0mdata\u001b[0m \u001b[0;34m=\u001b[0m \u001b[0m_concatenate_chunks\u001b[0m\u001b[0;34m(\u001b[0m\u001b[0mchunks\u001b[0m\u001b[0;34m)\u001b[0m\u001b[0;34m\u001b[0m\u001b[0;34m\u001b[0m\u001b[0m\n",
            "\u001b[0;32m/usr/local/lib/python3.10/dist-packages/pandas/_libs/parsers.pyx\u001b[0m in \u001b[0;36mpandas._libs.parsers.TextReader.read_low_memory\u001b[0;34m()\u001b[0m\n",
            "\u001b[0;32m/usr/local/lib/python3.10/dist-packages/pandas/_libs/parsers.pyx\u001b[0m in \u001b[0;36mpandas._libs.parsers.TextReader._read_rows\u001b[0;34m()\u001b[0m\n",
            "\u001b[0;32m/usr/local/lib/python3.10/dist-packages/pandas/_libs/parsers.pyx\u001b[0m in \u001b[0;36mpandas._libs.parsers.TextReader._tokenize_rows\u001b[0;34m()\u001b[0m\n",
            "\u001b[0;32m/usr/local/lib/python3.10/dist-packages/pandas/_libs/parsers.pyx\u001b[0m in \u001b[0;36mpandas._libs.parsers.TextReader._check_tokenize_status\u001b[0;34m()\u001b[0m\n",
            "\u001b[0;32m/usr/local/lib/python3.10/dist-packages/pandas/_libs/parsers.pyx\u001b[0m in \u001b[0;36mpandas._libs.parsers.raise_parser_error\u001b[0;34m()\u001b[0m\n",
            "\u001b[0;31mParserError\u001b[0m: Error tokenizing data. C error: Buffer overflow caught - possible malformed input file.\n"
          ]
        }
      ]
    },
    {
      "cell_type": "code",
      "source": [],
      "metadata": {
        "id": "XilbnwdF6spL"
      },
      "execution_count": null,
      "outputs": []
    }
  ]
}